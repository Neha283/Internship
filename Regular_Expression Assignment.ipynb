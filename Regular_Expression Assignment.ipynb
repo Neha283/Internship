{
 "cells": [
  {
   "cell_type": "code",
   "execution_count": 1,
   "id": "d4df9a8c",
   "metadata": {},
   "outputs": [
    {
     "name": "stdout",
     "output_type": "stream",
     "text": [
      "Python:Exercises::PHP:exercises:\n"
     ]
    }
   ],
   "source": [
    "# Write a Python program to replace all occurrences of a space, comma, or dot with a colon.\n",
    "import re\n",
    "txt = 'Python Exercises, PHP exercises.'\n",
    "x = re.sub('[, .]',':',txt)\n",
    "print(x)\n"
   ]
  },
  {
   "cell_type": "code",
   "execution_count": 5,
   "id": "0bc7da3b",
   "metadata": {},
   "outputs": [
    {
     "name": "stdout",
     "output_type": "stream",
     "text": [
      "['have', 'best', 'Data', 'Scie', 'Trai', 'ning', 'ever']\n"
     ]
    }
   ],
   "source": [
    "#Create a function in python to find all words that are at least 4 characters long in a string. The use of the re.compile() method is mandatory.\n",
    "def word_finder(String):\n",
    "    regex_pattern = re.compile('\\w{4}')\n",
    "    word = regex_pattern.findall(string)\n",
    "      \n",
    "        \n",
    "    return word\n",
    "        \n",
    "     \n",
    "    \n",
    "string ='We have the best Data Science Training ever.'\n",
    "print(word_finder(string))\n"
   ]
  },
  {
   "cell_type": "code",
   "execution_count": 6,
   "id": "cdc93620",
   "metadata": {},
   "outputs": [
    {
     "name": "stdout",
     "output_type": "stream",
     "text": [
      "['have ', 'the ', 'best ', 'Data ', 'Science', 'Trainin', 'ever.']\n"
     ]
    }
   ],
   "source": [
    "#Create a function in python to find all three, four, and five character words in a string. The use of the re.compile() method is mandatory.\n",
    "def word_finder345(String):\n",
    "    regex_pattern = re.compile('\\w{3,6}.')\n",
    "    word = regex_pattern.findall(string)\n",
    "      \n",
    "        \n",
    "    return word\n",
    "        \n",
    "     \n",
    "    \n",
    "string ='We have the best Data Science Training ever.'\n",
    "print(word_finder345(string))\n",
    "\n"
   ]
  },
  {
   "cell_type": "code",
   "execution_count": 27,
   "id": "c207f637",
   "metadata": {},
   "outputs": [
    {
     "name": "stdout",
     "output_type": "stream",
     "text": [
      "['example  .com ', 'hr@fliprobo  .com ', 'github  .com ', 'Hello  Data Science World ', 'Data  Scientist ']\n"
     ]
    }
   ],
   "source": [
    "#Create a function in Python to remove the parenthesis in a list of strings. The use of the re.compile() method is mandatory.\n",
    "def remove_parenthesis(string):\n",
    "    regex_pattern= re.compile(\"\\(|\\)\")\n",
    "    pattern = [regex_pattern.sub(\" \",s)for s in string]\n",
    "    \n",
    "    \n",
    "    return pattern\n",
    "\n",
    "string = [\"example (.com)\", \"hr@fliprobo (.com)\", \"github (.com)\", \"Hello (Data Science World)\", \"Data (Scientist)\"]\n",
    "print(remove_parenthesis(string))\n",
    "        \n",
    "    "
   ]
  },
  {
   "cell_type": "code",
   "execution_count": 37,
   "id": "3aa606d3",
   "metadata": {},
   "outputs": [
    {
     "name": "stdout",
     "output_type": "stream",
     "text": [
      "['', 'Importance', 'Of', 'Regular', 'Expressions', 'In', 'Python']\n"
     ]
    }
   ],
   "source": [
    "# split string into on basis of uppercase\n",
    "import re\n",
    "\n",
    "def split_uppercase(text):\n",
    "            pattern = r'(?=[A-Z])'\n",
    "\n",
    "   \n",
    "            splitted_words =re.split(pattern, text)\n",
    "\n",
    "            return splitted_words\n",
    "\n",
    "\n",
    "sample_text = \"ImportanceOfRegularExpressionsInPython\"\n",
    "x = split_uppercase(sample_text)\n",
    "print(x)\n"
   ]
  },
  {
   "cell_type": "code",
   "execution_count": 48,
   "id": "7750698a",
   "metadata": {},
   "outputs": [
    {
     "name": "stdout",
     "output_type": "stream",
     "text": [
      "RegularExpression1  IsAn2  ImportantTopic3  InPython\n"
     ]
    }
   ],
   "source": [
    "#Create a function in python to insert spaces between words starting with numbers.\n",
    "#Sample Text: “RegularExpression1IsAn2ImportantTopic3InPython\"\n",
    "\n",
    "def spaces(text):\n",
    "   \n",
    "    pattern = '(?<=\\d)(?=[A-Za-z])'\n",
    "\n",
    "    \n",
    "    result = re.sub(pattern, '  ', text)\n",
    "\n",
    "    return result\n",
    "\n",
    "\n",
    "Input = \"RegularExpression1IsAn2ImportantTopic3InPython\"\n",
    "x = spaces(Input)\n",
    "print(x)"
   ]
  },
  {
   "cell_type": "code",
   "execution_count": 49,
   "id": "2390b62c",
   "metadata": {},
   "outputs": [
    {
     "name": "stdout",
     "output_type": "stream",
     "text": [
      "RegularExpression  1  IsAn  2  ImportantTopic  3  InPython\n"
     ]
    }
   ],
   "source": [
    "# Create a function in python to insert spaces between words starting with capital letters or with numbers.\n",
    "def spaces_n_l(text):\n",
    "   \n",
    "    pattern = '(?<=\\d)(?=[A-Z])|(?<=[A-Z])(?=[A-Z][a-z])|(?<=[a-z])(?=\\d)'\n",
    "\n",
    "    \n",
    "    result = re.sub(pattern, '  ', text)\n",
    "\n",
    "    return result\n",
    "\n",
    "\n",
    "Input = \"RegularExpression1IsAn2ImportantTopic3InPython\"\n",
    "x = spaces_n_l(Input)\n",
    "print(x)"
   ]
  },
  {
   "cell_type": "code",
   "execution_count": 50,
   "id": "4dc475f7",
   "metadata": {},
   "outputs": [],
   "source": [
    "#dataframe from github link\n",
    "import pandas as pd\n",
    "import numpy as np\n",
    "import re\n",
    "data = pd.read_csv('https://raw.githubusercontent.com/dsrscientist/DSData/master/happiness_score_dataset.csv')"
   ]
  },
  {
   "cell_type": "code",
   "execution_count": 51,
   "id": "b17326e4",
   "metadata": {},
   "outputs": [
    {
     "data": {
      "text/html": [
       "<div>\n",
       "<style scoped>\n",
       "    .dataframe tbody tr th:only-of-type {\n",
       "        vertical-align: middle;\n",
       "    }\n",
       "\n",
       "    .dataframe tbody tr th {\n",
       "        vertical-align: top;\n",
       "    }\n",
       "\n",
       "    .dataframe thead th {\n",
       "        text-align: right;\n",
       "    }\n",
       "</style>\n",
       "<table border=\"1\" class=\"dataframe\">\n",
       "  <thead>\n",
       "    <tr style=\"text-align: right;\">\n",
       "      <th></th>\n",
       "      <th>Country</th>\n",
       "      <th>Region</th>\n",
       "      <th>Happiness Rank</th>\n",
       "      <th>Happiness Score</th>\n",
       "      <th>Standard Error</th>\n",
       "      <th>Economy (GDP per Capita)</th>\n",
       "      <th>Family</th>\n",
       "      <th>Health (Life Expectancy)</th>\n",
       "      <th>Freedom</th>\n",
       "      <th>Trust (Government Corruption)</th>\n",
       "      <th>Generosity</th>\n",
       "      <th>Dystopia Residual</th>\n",
       "    </tr>\n",
       "  </thead>\n",
       "  <tbody>\n",
       "    <tr>\n",
       "      <th>0</th>\n",
       "      <td>Switzerland</td>\n",
       "      <td>Western Europe</td>\n",
       "      <td>1</td>\n",
       "      <td>7.587</td>\n",
       "      <td>0.03411</td>\n",
       "      <td>1.39651</td>\n",
       "      <td>1.34951</td>\n",
       "      <td>0.94143</td>\n",
       "      <td>0.66557</td>\n",
       "      <td>0.41978</td>\n",
       "      <td>0.29678</td>\n",
       "      <td>2.51738</td>\n",
       "    </tr>\n",
       "    <tr>\n",
       "      <th>1</th>\n",
       "      <td>Iceland</td>\n",
       "      <td>Western Europe</td>\n",
       "      <td>2</td>\n",
       "      <td>7.561</td>\n",
       "      <td>0.04884</td>\n",
       "      <td>1.30232</td>\n",
       "      <td>1.40223</td>\n",
       "      <td>0.94784</td>\n",
       "      <td>0.62877</td>\n",
       "      <td>0.14145</td>\n",
       "      <td>0.43630</td>\n",
       "      <td>2.70201</td>\n",
       "    </tr>\n",
       "    <tr>\n",
       "      <th>2</th>\n",
       "      <td>Denmark</td>\n",
       "      <td>Western Europe</td>\n",
       "      <td>3</td>\n",
       "      <td>7.527</td>\n",
       "      <td>0.03328</td>\n",
       "      <td>1.32548</td>\n",
       "      <td>1.36058</td>\n",
       "      <td>0.87464</td>\n",
       "      <td>0.64938</td>\n",
       "      <td>0.48357</td>\n",
       "      <td>0.34139</td>\n",
       "      <td>2.49204</td>\n",
       "    </tr>\n",
       "    <tr>\n",
       "      <th>3</th>\n",
       "      <td>Norway</td>\n",
       "      <td>Western Europe</td>\n",
       "      <td>4</td>\n",
       "      <td>7.522</td>\n",
       "      <td>0.03880</td>\n",
       "      <td>1.45900</td>\n",
       "      <td>1.33095</td>\n",
       "      <td>0.88521</td>\n",
       "      <td>0.66973</td>\n",
       "      <td>0.36503</td>\n",
       "      <td>0.34699</td>\n",
       "      <td>2.46531</td>\n",
       "    </tr>\n",
       "    <tr>\n",
       "      <th>4</th>\n",
       "      <td>Canada</td>\n",
       "      <td>North America</td>\n",
       "      <td>5</td>\n",
       "      <td>7.427</td>\n",
       "      <td>0.03553</td>\n",
       "      <td>1.32629</td>\n",
       "      <td>1.32261</td>\n",
       "      <td>0.90563</td>\n",
       "      <td>0.63297</td>\n",
       "      <td>0.32957</td>\n",
       "      <td>0.45811</td>\n",
       "      <td>2.45176</td>\n",
       "    </tr>\n",
       "  </tbody>\n",
       "</table>\n",
       "</div>"
      ],
      "text/plain": [
       "       Country          Region  Happiness Rank  Happiness Score  \\\n",
       "0  Switzerland  Western Europe               1            7.587   \n",
       "1      Iceland  Western Europe               2            7.561   \n",
       "2      Denmark  Western Europe               3            7.527   \n",
       "3       Norway  Western Europe               4            7.522   \n",
       "4       Canada   North America               5            7.427   \n",
       "\n",
       "   Standard Error  Economy (GDP per Capita)   Family  \\\n",
       "0         0.03411                   1.39651  1.34951   \n",
       "1         0.04884                   1.30232  1.40223   \n",
       "2         0.03328                   1.32548  1.36058   \n",
       "3         0.03880                   1.45900  1.33095   \n",
       "4         0.03553                   1.32629  1.32261   \n",
       "\n",
       "   Health (Life Expectancy)  Freedom  Trust (Government Corruption)  \\\n",
       "0                   0.94143  0.66557                        0.41978   \n",
       "1                   0.94784  0.62877                        0.14145   \n",
       "2                   0.87464  0.64938                        0.48357   \n",
       "3                   0.88521  0.66973                        0.36503   \n",
       "4                   0.90563  0.63297                        0.32957   \n",
       "\n",
       "   Generosity  Dystopia Residual  \n",
       "0     0.29678            2.51738  \n",
       "1     0.43630            2.70201  \n",
       "2     0.34139            2.49204  \n",
       "3     0.34699            2.46531  \n",
       "4     0.45811            2.45176  "
      ]
     },
     "execution_count": 51,
     "metadata": {},
     "output_type": "execute_result"
    }
   ],
   "source": [
    "data.head()"
   ]
  },
  {
   "cell_type": "code",
   "execution_count": 52,
   "id": "d5983f5f",
   "metadata": {},
   "outputs": [
    {
     "data": {
      "text/plain": [
       "0      Switze\n",
       "1      Icelan\n",
       "2      Denmar\n",
       "3      Norway\n",
       "4      Canada\n",
       "        ...  \n",
       "153    Rwanda\n",
       "154     Benin\n",
       "155     Syria\n",
       "156    Burund\n",
       "157      Togo\n",
       "Name: First_five_letters, Length: 158, dtype: object"
      ]
     },
     "execution_count": 52,
     "metadata": {},
     "output_type": "execute_result"
    }
   ],
   "source": [
    "data['First_five_letters'] = data['Country'].str[:6]\n",
    "data['First_five_letters']"
   ]
  },
  {
   "cell_type": "code",
   "execution_count": 56,
   "id": "007aee3f",
   "metadata": {},
   "outputs": [
    {
     "name": "stdout",
     "output_type": "stream",
     "text": [
      " matches the pattern.\n"
     ]
    }
   ],
   "source": [
    "# Write a Python program to match a string that contains only upper and lowercase letters, numbers, and underscores.\n",
    "import re\n",
    "string = 'Hello_World'\n",
    "pattern = '^[a-zA-Z0-9_]+$'\n",
    "match = re.match(pattern, string)\n",
    "\n",
    "if re.match(pattern, string):\n",
    "    print(' matches the pattern.')\n",
    "else:\n",
    "    print('does not match')\n"
   ]
  },
  {
   "cell_type": "code",
   "execution_count": 60,
   "id": "0bb64621",
   "metadata": {},
   "outputs": [
    {
     "name": "stdout",
     "output_type": "stream",
     "text": [
      "The string \"{s}\" starts with the number {n}.\n"
     ]
    }
   ],
   "source": [
    "#Write a Python program where a string will start with a specific number.\n",
    "s = \"12345abc\"\n",
    "n = 12345\n",
    "\n",
    "\n",
    "if s.startswith(str(n)):\n",
    "    print('The string \"{s}\" starts with the number {n}.')\n",
    "else:\n",
    "    print('The string \"{s}\" does not start with the number {n}.')"
   ]
  },
  {
   "cell_type": "code",
   "execution_count": 79,
   "id": "357e3379",
   "metadata": {},
   "outputs": [
    {
     "name": "stdout",
     "output_type": "stream",
     "text": [
      "No date string found.\n"
     ]
    }
   ],
   "source": [
    "import re\n",
    "\n",
    "text = ' On August 15th 1947 that India was declared independent  leaders of the Country'\n",
    "\n",
    "pattern = '(?:January|February|March|April|May|June|July|August|September|October|November|December)\\s+\\d{1,2}(?:st|nd|rd|th)?\\s+\\d{4}\\b'\n",
    "\n",
    "\n",
    "date = re.search(pattern, text)\n",
    "\n",
    "\n",
    "if date ==True:\n",
    "    \n",
    "    print(\"Matched date string:\", date_string)\n",
    "else:\n",
    "    print(\"No date string found.\")"
   ]
  },
  {
   "cell_type": "code",
   "execution_count": 83,
   "id": "c216627a",
   "metadata": {},
   "outputs": [
    {
     "name": "stdout",
     "output_type": "stream",
     "text": [
      "found in the sample text.\n",
      "found in the sample text.\n",
      "not found in the sample text.\n"
     ]
    }
   ],
   "source": [
    "#Write a Python program to search some literals strings in a string. \n",
    "#Sample text : 'The quick brown fox jumps over the lazy dog.'\n",
    "#Searched words : 'fox', 'dog', 'horse'\n",
    "import re\n",
    "text = 'The quick brown fox jumps over the lazy dog.'\n",
    "\n",
    "words = ['fox', 'dog', 'horse']\n",
    "\n",
    "for word in words:\n",
    "    if word in text:\n",
    "        print('found in the sample text.')\n",
    "    else:\n",
    "        print( 'not found in the sample text.')\n",
    "\n"
   ]
  },
  {
   "cell_type": "code",
   "execution_count": 89,
   "id": "f330785d",
   "metadata": {},
   "outputs": [
    {
     "name": "stdout",
     "output_type": "stream",
     "text": [
      "The word {'fox'}  was found at index {16}  in the sample text.\n"
     ]
    }
   ],
   "source": [
    "#Write a Python program to search a literals string in a string and also find the location within the original string where the pattern occurs\n",
    "#Sample text : 'The quick brown fox jumps over the lazy dog.'\n",
    "#Searched words : 'fox'\n",
    "\n",
    "sample_text = 'The quick brown fox jumps over the lazy dog.'\n",
    "searched_word = 'fox'\n",
    "index = sample_text.find(searched_word)\n",
    "if index != -1:\n",
    "    print('The word', {searched_word},' was found at index', {index},' in the sample text.')\n",
    "else:\n",
    "    print('The word',{searched_word},' was not found in the sample text.')\n"
   ]
  },
  {
   "cell_type": "code",
   "execution_count": 90,
   "id": "070e9d21",
   "metadata": {},
   "outputs": [
    {
     "name": "stdout",
     "output_type": "stream",
     "text": [
      "Substrings found within the string:\n",
      "Python\n",
      ", PHP\n",
      ", C#\n"
     ]
    }
   ],
   "source": [
    "#Question 17- Write a Python program to find the substrings within a string.\n",
    "#Sample text : 'Python exercises, PHP exercises, C# exercises'\n",
    "#Pattern : 'exercises'.\n",
    "\n",
    "text = 'Python exercises, PHP exercises, C# exercises'\n",
    "pattern = 'exercises'\n",
    "\n",
    "substrings = text.split(pattern)\n",
    "\n",
    "substrings = [substring for substring in substrings if substring]\n",
    "\n",
    "# Print the substrings\n",
    "print(\"Substrings found within the string:\")\n",
    "for substring in substrings:\n",
    "    print(substring.strip())  "
   ]
  },
  {
   "cell_type": "code",
   "execution_count": 93,
   "id": "ef9682dc",
   "metadata": {},
   "outputs": [
    {
     "name": "stdout",
     "output_type": "stream",
     "text": [
      "The substring  {'exercises'}  was found  {3}  times.\n",
      "Positions of occurrences:\n",
      "Occurrence 1: position 7\n",
      "Occurrence 2: position 22\n",
      "Occurrence 3: position 36\n"
     ]
    }
   ],
   "source": [
    "#Write a Python program to find the occurrence and position of the substrings within a string.\n",
    "sample_text = 'Python exercises, PHP exercises, C# exercises'\n",
    "substring = 'exercises'\n",
    "\n",
    "start_index = 0\n",
    "occurrences = []\n",
    "\n",
    "while True:\n",
    "    index = sample_text.find(substring, start_index)\n",
    "    if index == -1:\n",
    "        break\n",
    "    occurrences.append(index)\n",
    "    start_index = index + 1\n",
    "\n",
    "if occurrences:\n",
    "    print(\"The substring \",{substring},\" was found \",{len(occurrences)},\" times.\")\n",
    "    print(\"Positions of occurrences:\")\n",
    "    for i, position in enumerate(occurrences, start=1):\n",
    "        print(f\"Occurrence {i}: position {position}\")\n",
    "else:\n",
    "    print(\"The substring '{substring}' was not found in the sample text.\")"
   ]
  },
  {
   "cell_type": "code",
   "execution_count": 94,
   "id": "241561ee",
   "metadata": {},
   "outputs": [
    {
     "name": "stdout",
     "output_type": "stream",
     "text": [
      "Original date: 2022-01-15\n",
      "Converted date: 15-01-2022\n"
     ]
    }
   ],
   "source": [
    "#Write a Python program to convert a date of yyyy-mm-dd format to dd-mm-yyyy format.\n",
    "\n",
    "from datetime import datetime\n",
    "\n",
    "date_string = '2022-01-15'\n",
    "\n",
    "date_object = datetime.strptime(date_string, '%Y-%m-%d')\n",
    "\n",
    "formatted_date_string = date_object.strftime('%d-%m-%Y')\n",
    "\n",
    "print(\"Original date:\", date_string)\n",
    "print(\"Converted date:\", formatted_date_string)"
   ]
  },
  {
   "cell_type": "code",
   "execution_count": 97,
   "id": "d58d5f6c",
   "metadata": {},
   "outputs": [
    {
     "name": "stdout",
     "output_type": "stream",
     "text": [
      "Decimal numbers with a precision of 1 or 2:\n",
      "['01.12', '145.8', '3.01', '27.25', '0.25']\n"
     ]
    }
   ],
   "source": [
    "# Create a function in python to find all decimal numbers with a precision of 1 or 2 in a string. The use of the re.compile() method is mandatory.\n",
    "#Sample Text: \"01.12 0132.123 2.31875 145.8 3.01 27.25 0.25\"\n",
    "#Expected Output: ['01.12', '145.8', '3.01', '27.25', '0.25']\n",
    "\n",
    "import re\n",
    "def decimal_numbers(text):\n",
    "    \n",
    "    pattern = re.compile(r'\\b\\d+\\.\\d{1,2}\\b')\n",
    "    decimal_numbers = pattern.findall(text)\n",
    "    return decimal_numbers\n",
    "\n",
    "\n",
    "text = \"01.12 0132.123 2.31875 145.8 3.01 27.25 0.25\"\n",
    "result = decimal_numbers(text)\n",
    "print(\"Decimal numbers with a precision of 1 or 2:\")\n",
    "print(result)\n"
   ]
  },
  {
   "cell_type": "code",
   "execution_count": 99,
   "id": "7ffa8ea8",
   "metadata": {},
   "outputs": [
    {
     "name": "stdout",
     "output_type": "stream",
     "text": [
      "Number: 1, Position: 4\n",
      "Number: 2, Position: 5\n",
      "Number: 3, Position: 6\n",
      "Number: 4, Position: 10\n",
      "Number: 5, Position: 11\n",
      "Number: 6, Position: 12\n",
      "Number: 7, Position: 16\n",
      "Number: 8, Position: 17\n",
      "Number: 9, Position: 18\n"
     ]
    }
   ],
   "source": [
    "#Write a Python program to separate and print the numbers and their position of a given string.\n",
    "string = \"abc123def456ghi789\"\n",
    "\n",
    "\n",
    "for i, char in enumerate(string):\n",
    "    \n",
    "    if char.isdigit():\n",
    "        \n",
    "        print(f\"Number: {char}, Position: {i+1}\")"
   ]
  },
  {
   "cell_type": "code",
   "execution_count": 106,
   "id": "b83949d4",
   "metadata": {},
   "outputs": [
    {
     "name": "stdout",
     "output_type": "stream",
     "text": [
      "Maximum numeric value: 950\n"
     ]
    }
   ],
   "source": [
    "#Write a regular expression in python program to extract maximum/largest numeric value from a string.\n",
    "#Sample Text:  'My marks in each semester are: 947, 896, 926, 524, 734, 950, 642'\n",
    "#Expected Output: 950\n",
    "\n",
    "import re\n",
    "text = 'My marks in each semester are: 947, 896, 926, 524, 734, 950, 642'\n",
    "pattern = r'\\b\\d+\\b'\n",
    "numeric_values = [int(num) for num in re.findall(pattern, text)]\n",
    "max_value = max(numeric_values)\n",
    "\n",
    "print(\"Maximum numeric value:\", max_value)\n"
   ]
  },
  {
   "cell_type": "code",
   "execution_count": 113,
   "id": "3dd8384f",
   "metadata": {},
   "outputs": [
    {
     "name": "stdout",
     "output_type": "stream",
     "text": [
      "Original Text: RegularExpressionIsAnImportantTopicInPython\n",
      "After inserting spaces: Regular Expression Is An Important Topic In Python\n"
     ]
    }
   ],
   "source": [
    "#Create a function in python to insert spaces between words starting with capital letters.\n",
    "#Sample Text: “RegularExpressionIsAnImportantTopicInPython\"\n",
    "#Expected Output: Regular Expression Is An Important Topic In Python\n",
    "import re\n",
    "\n",
    "def insert_spaces(text):\n",
    "    \n",
    "    words = re.findall(r'[A-Z][a-z]*', text)\n",
    "   \n",
    "    spaced_text = ' '.join(words)\n",
    "    return spaced_text\n",
    "\n",
    "\n",
    "sample_text = \"RegularExpressionIsAnImportantTopicInPython\"\n",
    "\n",
    "\n",
    "result = insert_spaces(sample_text)\n",
    "\n",
    "print(\"Original Text:\", sample_text)\n",
    "print(\"After inserting spaces:\", result)"
   ]
  },
  {
   "cell_type": "code",
   "execution_count": 116,
   "id": "425afdfc",
   "metadata": {},
   "outputs": [
    {
     "name": "stdout",
     "output_type": "stream",
     "text": [
      "Sequences of one upper case letter followed by lower case letters:\n",
      "['Data', 'Science', 'Internship', 'Program']\n"
     ]
    }
   ],
   "source": [
    "#Python regex to find sequences of one upper case letter followed by lower case letters\n",
    "\n",
    "import re\n",
    "\n",
    "\n",
    "sample_text = \"Data Science Internship Program is going on.\"\n",
    "\n",
    "\n",
    "pattern = r'[A-Z][a-z]+'\n",
    "\n",
    "\n",
    "sequences = re.findall(pattern, sample_text)\n",
    "\n",
    "\n",
    "print(\"Sequences of one upper case letter followed by lower case letters:\")\n",
    "print(sequences)"
   ]
  },
  {
   "cell_type": "code",
   "execution_count": 118,
   "id": "72c1850f",
   "metadata": {},
   "outputs": [
    {
     "name": "stdout",
     "output_type": "stream",
     "text": [
      "Hello hello world\n"
     ]
    }
   ],
   "source": [
    "#Write a Python program to remove continuous duplicate words from Sentence using Regular Expression.\n",
    "#Sample Text: \"Hello hello world world\"\n",
    "#Expected Output: Hello hello world\n",
    "\n",
    "import re\n",
    "\n",
    "def remove_duplicates(sentence):\n",
    "   \n",
    "    pattern = r'\\b(\\w+)(\\s+\\1)+\\b'\n",
    "\n",
    "    \n",
    "    result = re.sub(pattern, r'\\1', sentence)\n",
    "\n",
    "    return result\n",
    "\n",
    "sample_text = \"Hello hello world world\"\n",
    "\n",
    "output = remove_duplicates(sample_text)\n",
    "print(output)"
   ]
  },
  {
   "cell_type": "code",
   "execution_count": 30,
   "id": "c756f23a",
   "metadata": {},
   "outputs": [
    {
     "name": "stdout",
     "output_type": "stream",
     "text": [
      "String ends with an alphanumeric character.\n"
     ]
    }
   ],
   "source": [
    "#-  Write a python program using RegEx to accept string ending with alphanumeric character.\n",
    "import re\n",
    "text = 'abcde fgtyhgg 123jkj4'\n",
    "pattern = '[a-zA-Z0-9]' \n",
    "\n",
    "if re.match(pattern, text):\n",
    "    print(\"String ends with an alphanumeric character.\")\n",
    "else:\n",
    "    print(\"String does not end with an alphanumeric character.\")"
   ]
  },
  {
   "cell_type": "code",
   "execution_count": 36,
   "id": "3cb9f268",
   "metadata": {},
   "outputs": [
    {
     "name": "stdout",
     "output_type": "stream",
     "text": [
      "['#Doltiwal', '#xyzabc', '#Demonetization']\n"
     ]
    }
   ],
   "source": [
    "#Write a python program using RegEx to extract the hashtags.\n",
    "#Sample Text:  \"\"\"RT @kapil_kausik: #Doltiwal I mean #xyzabc is \"hurt\" by #Demonetization as the same has rendered USELESS <ed><U+00A0><U+00BD><ed><U+00B1><U+0089> \"acquired funds\" No wo\"\"\"\n",
    "#Expected Output: ['#Doltiwal', '#xyzabc', '#Demonetization']\n",
    "\n",
    "import re\n",
    "text = '\"\"\"\" RT @kapil_kausik: #Doltiwal I mean #xyzabc is \"hurt\" by #Demonetization as the same has rendered USELESS <ed><U+00A0><U+00BD><ed><U+00B1><U+0089> \"acquired funds\" No wo\"\"\"'\n",
    "pattern = '#\\w+'\n",
    "x = re.findall(pattern, text)\n",
    "print(x)\n"
   ]
  },
  {
   "cell_type": "code",
   "execution_count": 37,
   "id": "c9783dc7",
   "metadata": {},
   "outputs": [
    {
     "name": "stdout",
     "output_type": "stream",
     "text": [
      "@Jags123456 Bharat band on 28??<ed>  <ed>  Those who  are protesting #demonetization  are all different party leaders\n"
     ]
    }
   ],
   "source": [
    "#- Write a python program using RegEx to remove <U+..> like symbols\n",
    "##Sample Text: \"@Jags123456 Bharat band on 28??<ed><U+00A0><U+00BD><ed><U+00B8><U+0082>Those who  are protesting #demonetization  are all different party leaders\"\n",
    "#Expected Output: @Jags123456 Bharat band on 28??<ed><ed>Those who  are protesting #demonetization  are all different party leaders\n",
    "\n",
    "import re\n",
    "text = \"@Jags123456 Bharat band on 28??<ed><U+00A0><U+00BD><ed><U+00B8><U+0082>Those who  are protesting #demonetization  are all different party leaders\"\n",
    "\n",
    "pattern = '<U\\+[0-9A-Fa-f]+>'\n",
    "x = re.sub(pattern,\" \", text)\n",
    "print(x)"
   ]
  },
  {
   "cell_type": "code",
   "execution_count": 8,
   "id": "a3c5e3fc",
   "metadata": {},
   "outputs": [
    {
     "name": "stdout",
     "output_type": "stream",
     "text": [
      "[]\n"
     ]
    }
   ],
   "source": [
    "#Write a python program to extract dates from the text stored in the text file.\n",
    "#Sample Text: Ron was born on 12-09-1992 and he was admitted to school 15-12-1999.\n",
    "#Note- Store this sample text in the file and then extract dates.\n",
    "\n",
    "import re\n",
    "\n",
    "with open(\"sample_text.txt\", \"w\") as file:\n",
    "    file.write(\"Ron was born on 12-09-1992 and he was admitted to school 15-12-1999.\")\n",
    "\n",
    "\n",
    "    with open('sample_text.txt', 'r') as file:\n",
    "        text = file.read()\n",
    "        \n",
    "\n",
    "        date_pattern = '\\b\\d{2}-\\d{2}-\\d{4}\\b'\n",
    "\n",
    "    \n",
    "    dates = re.findall(date_pattern, text)\n",
    "print(dates)"
   ]
  },
  {
   "cell_type": "code",
   "execution_count": 12,
   "id": "fdad8b28",
   "metadata": {},
   "outputs": [
    {
     "name": "stdout",
     "output_type": "stream",
     "text": [
      " following example creates  ArrayList  a capacity   elements. 4 elements   added   ArrayList   ArrayList  trimmed accordingly.\n"
     ]
    }
   ],
   "source": [
    "#Create a function in python to remove all words from a string of length between 2 and 4.\n",
    "#The use of the re.compile() method is mandatory.\n",
    "#Sample Text: \"The following example creates an ArrayList with a capacity of 50 elements. 4 elements are then added to the ArrayList and the ArrayList is trimmed accordingly.\"\n",
    "# Output:  following example creates ArrayList a capacity elements. 4 elements added ArrayList ArrayList trimmed accordingly.\n",
    "\n",
    "import re\n",
    "def remove_two_four_words(txt):\n",
    "    \n",
    "    pattern = re.compile(r'\\b\\w{2,4}\\b')\n",
    "    \n",
    "    result = pattern.sub('', txt)\n",
    "    return result\n",
    "\n",
    "Text = \"The following example creates an ArrayList with a capacity of 50 elements. 4 elements are then added to the ArrayList and the ArrayList is trimmed accordingly.\"\n",
    "x = remove_two_four_words(Text)\n",
    "print(x)"
   ]
  }
 ],
 "metadata": {
  "kernelspec": {
   "display_name": "Python 3 (ipykernel)",
   "language": "python",
   "name": "python3"
  },
  "language_info": {
   "codemirror_mode": {
    "name": "ipython",
    "version": 3
   },
   "file_extension": ".py",
   "mimetype": "text/x-python",
   "name": "python",
   "nbconvert_exporter": "python",
   "pygments_lexer": "ipython3",
   "version": "3.11.5"
  }
 },
 "nbformat": 4,
 "nbformat_minor": 5
}
