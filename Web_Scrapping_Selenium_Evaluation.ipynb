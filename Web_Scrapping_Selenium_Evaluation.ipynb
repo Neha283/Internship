{
 "cells": [
  {
   "cell_type": "code",
   "execution_count": 1,
   "id": "b2b7091a",
   "metadata": {},
   "outputs": [],
   "source": [
    "import selenium\n",
    "import pandas as pd\n",
    "import warnings\n",
    "warnings.filterwarnings('ignore')\n",
    "from selenium import webdriver\n",
    "from selenium.webdriver.common.by import By\n",
    "import time"
   ]
  },
  {
   "cell_type": "code",
   "execution_count": 2,
   "id": "3d86345c",
   "metadata": {},
   "outputs": [],
   "source": [
    "#get the webpage naukri.com\n",
    "driver = webdriver.Chrome()"
   ]
  },
  {
   "cell_type": "code",
   "execution_count": 3,
   "id": "d968568c",
   "metadata": {},
   "outputs": [],
   "source": [
    "driver.get('http://www.naukri.com')"
   ]
  },
  {
   "cell_type": "code",
   "execution_count": 4,
   "id": "9e45853d",
   "metadata": {},
   "outputs": [],
   "source": [
    "designation = driver.find_element(By.CLASS_NAME,\"suggestor-input \")\n",
    "designation.send_keys('Data Scientist')"
   ]
  },
  {
   "cell_type": "code",
   "execution_count": 5,
   "id": "f2da8340",
   "metadata": {},
   "outputs": [],
   "source": [
    "search = driver.find_element(By.CLASS_NAME,\"qsbSubmit\")\n",
    "search.click()"
   ]
  },
  {
   "cell_type": "code",
   "execution_count": 6,
   "id": "a80a16fc",
   "metadata": {},
   "outputs": [],
   "source": [
    "location = driver.find_element(By.XPATH,\"/html/body/div/div/main/div[1]/div[1]/div/div/div[2]/div[2]/div[2]/div[2]/label/i\")\n",
    "location.click()"
   ]
  },
  {
   "cell_type": "code",
   "execution_count": 7,
   "id": "fa976000",
   "metadata": {},
   "outputs": [],
   "source": [
    "salary = driver.find_element(By.XPATH,\"/html/body/div/div/main/div[1]/div[1]/div/div/div[2]/div[4]/div[2]/div[2]/label/i\")\n",
    "salary.click()"
   ]
  },
  {
   "cell_type": "code",
   "execution_count": 9,
   "id": "cad260df",
   "metadata": {},
   "outputs": [],
   "source": [
    "Designation_Tag = []"
   ]
  },
  {
   "cell_type": "code",
   "execution_count": 13,
   "id": "919bf02e",
   "metadata": {},
   "outputs": [
    {
     "data": {
      "text/plain": [
       "['Data Scientist',\n",
       " 'Data Scientist',\n",
       " 'Data Scientist',\n",
       " 'Python Data Scientist',\n",
       " 'Associate Data Scientist',\n",
       " 'Associate Data Scientist',\n",
       " 'Senior Data Scientist/ Data Scientist',\n",
       " 'Lead Data Scientist',\n",
       " 'Data Scientist',\n",
       " 'Lead Customer Success - Data Scientist']"
      ]
     },
     "execution_count": 13,
     "metadata": {},
     "output_type": "execute_result"
    }
   ],
   "source": [
    "\n",
    "Designation = driver.find_elements(By.XPATH,\"//div[@class='cust-job-tuple layout-wrapper lay-2 sjw__tuple ']/div/a\")\n",
    "for i in Designation:\n",
    "    Job =i.text\n",
    "    Designation_Tag.append(Job)\n",
    "Designation_Tag[:10] "
   ]
  },
  {
   "cell_type": "code",
   "execution_count": 15,
   "id": "e5538879",
   "metadata": {},
   "outputs": [],
   "source": [
    "Location_Tag = []"
   ]
  },
  {
   "cell_type": "code",
   "execution_count": 16,
   "id": "82f4acd2",
   "metadata": {},
   "outputs": [
    {
     "data": {
      "text/plain": [
       "['Kolkata, Mumbai, New Delhi, Hyderabad, Pune, Chennai, Bengaluru',\n",
       " 'Kolkata, Mumbai, New Delhi, Hyderabad, Pune, Chennai, Bengaluru',\n",
       " 'Gurugram, Bengaluru',\n",
       " 'Kolkata, Mumbai, New Delhi, Hyderabad, Pune, Chennai, Bengaluru',\n",
       " 'Kolkata, Mumbai, New Delhi, Hyderabad, Pune, Chennai, Bengaluru',\n",
       " 'Kolkata, Mumbai, New Delhi, Hyderabad, Pune, Chennai, Bengaluru',\n",
       " 'Mumbai, Pune, Chennai, Gurugram, Bengaluru',\n",
       " 'Kolkata, Mumbai, New Delhi, Hyderabad/Secunderabad, Pune, Chennai, Bangalore/Bengaluru',\n",
       " 'Kolkata, Mumbai, New Delhi, Hyderabad, Pune, Chennai, Bengaluru',\n",
       " 'Pune, Gurugram']"
      ]
     },
     "execution_count": 16,
     "metadata": {},
     "output_type": "execute_result"
    }
   ],
   "source": [
    "Location = driver.find_elements(By.XPATH,\"//span[@class='locWdth']\")\n",
    "for i in Location:\n",
    "    Loc =i.text\n",
    "    Location_Tag.append(Loc)\n",
    "Location_Tag[:10] "
   ]
  },
  {
   "cell_type": "code",
   "execution_count": 17,
   "id": "5f4bacd2",
   "metadata": {},
   "outputs": [],
   "source": [
    "Salary_Tag = []"
   ]
  },
  {
   "cell_type": "code",
   "execution_count": 18,
   "id": "857772e3",
   "metadata": {},
   "outputs": [
    {
     "data": {
      "text/plain": [
       "['Not disclosed',\n",
       " 'Not disclosed',\n",
       " 'Not disclosed',\n",
       " 'Not disclosed',\n",
       " 'Not disclosed',\n",
       " 'Not disclosed',\n",
       " 'Not disclosed',\n",
       " 'Not disclosed',\n",
       " 'Not disclosed',\n",
       " 'Not disclosed']"
      ]
     },
     "execution_count": 18,
     "metadata": {},
     "output_type": "execute_result"
    }
   ],
   "source": [
    "Salary = driver.find_elements(By.XPATH,\"//span[@class='ni-job-tuple-icon ni-job-tuple-icon-srp-rupee sal']\")\n",
    "for i in Salary:\n",
    "    Sal =i.text\n",
    "    Salary_Tag.append(Sal)\n",
    "Salary_Tag[:10] "
   ]
  },
  {
   "cell_type": "code",
   "execution_count": 21,
   "id": "2337e735",
   "metadata": {},
   "outputs": [
    {
     "data": {
      "text/html": [
       "<div>\n",
       "<style scoped>\n",
       "    .dataframe tbody tr th:only-of-type {\n",
       "        vertical-align: middle;\n",
       "    }\n",
       "\n",
       "    .dataframe tbody tr th {\n",
       "        vertical-align: top;\n",
       "    }\n",
       "\n",
       "    .dataframe thead th {\n",
       "        text-align: right;\n",
       "    }\n",
       "</style>\n",
       "<table border=\"1\" class=\"dataframe\">\n",
       "  <thead>\n",
       "    <tr style=\"text-align: right;\">\n",
       "      <th></th>\n",
       "      <th>Dessignation</th>\n",
       "      <th>Location</th>\n",
       "      <th>Salary</th>\n",
       "    </tr>\n",
       "  </thead>\n",
       "  <tbody>\n",
       "    <tr>\n",
       "      <th>0</th>\n",
       "      <td>Data Scientist</td>\n",
       "      <td>Kolkata, Mumbai, New Delhi, Hyderabad, Pune, C...</td>\n",
       "      <td>Not disclosed</td>\n",
       "    </tr>\n",
       "    <tr>\n",
       "      <th>1</th>\n",
       "      <td>Data Scientist</td>\n",
       "      <td>Kolkata, Mumbai, New Delhi, Hyderabad, Pune, C...</td>\n",
       "      <td>Not disclosed</td>\n",
       "    </tr>\n",
       "    <tr>\n",
       "      <th>2</th>\n",
       "      <td>Data Scientist</td>\n",
       "      <td>Gurugram, Bengaluru</td>\n",
       "      <td>Not disclosed</td>\n",
       "    </tr>\n",
       "    <tr>\n",
       "      <th>3</th>\n",
       "      <td>Python Data Scientist</td>\n",
       "      <td>Kolkata, Mumbai, New Delhi, Hyderabad, Pune, C...</td>\n",
       "      <td>Not disclosed</td>\n",
       "    </tr>\n",
       "    <tr>\n",
       "      <th>4</th>\n",
       "      <td>Associate Data Scientist</td>\n",
       "      <td>Kolkata, Mumbai, New Delhi, Hyderabad, Pune, C...</td>\n",
       "      <td>Not disclosed</td>\n",
       "    </tr>\n",
       "    <tr>\n",
       "      <th>5</th>\n",
       "      <td>Associate Data Scientist</td>\n",
       "      <td>Kolkata, Mumbai, New Delhi, Hyderabad, Pune, C...</td>\n",
       "      <td>Not disclosed</td>\n",
       "    </tr>\n",
       "    <tr>\n",
       "      <th>6</th>\n",
       "      <td>Senior Data Scientist/ Data Scientist</td>\n",
       "      <td>Mumbai, Pune, Chennai, Gurugram, Bengaluru</td>\n",
       "      <td>Not disclosed</td>\n",
       "    </tr>\n",
       "    <tr>\n",
       "      <th>7</th>\n",
       "      <td>Lead Data Scientist</td>\n",
       "      <td>Kolkata, Mumbai, New Delhi, Hyderabad/Secunder...</td>\n",
       "      <td>Not disclosed</td>\n",
       "    </tr>\n",
       "    <tr>\n",
       "      <th>8</th>\n",
       "      <td>Data Scientist</td>\n",
       "      <td>Kolkata, Mumbai, New Delhi, Hyderabad, Pune, C...</td>\n",
       "      <td>Not disclosed</td>\n",
       "    </tr>\n",
       "    <tr>\n",
       "      <th>9</th>\n",
       "      <td>Lead Customer Success - Data Scientist</td>\n",
       "      <td>Pune, Gurugram</td>\n",
       "      <td>Not disclosed</td>\n",
       "    </tr>\n",
       "  </tbody>\n",
       "</table>\n",
       "</div>"
      ],
      "text/plain": [
       "                             Dessignation  \\\n",
       "0                          Data Scientist   \n",
       "1                          Data Scientist   \n",
       "2                          Data Scientist   \n",
       "3                   Python Data Scientist   \n",
       "4                Associate Data Scientist   \n",
       "5                Associate Data Scientist   \n",
       "6   Senior Data Scientist/ Data Scientist   \n",
       "7                     Lead Data Scientist   \n",
       "8                          Data Scientist   \n",
       "9  Lead Customer Success - Data Scientist   \n",
       "\n",
       "                                            Location         Salary  \n",
       "0  Kolkata, Mumbai, New Delhi, Hyderabad, Pune, C...  Not disclosed  \n",
       "1  Kolkata, Mumbai, New Delhi, Hyderabad, Pune, C...  Not disclosed  \n",
       "2                                Gurugram, Bengaluru  Not disclosed  \n",
       "3  Kolkata, Mumbai, New Delhi, Hyderabad, Pune, C...  Not disclosed  \n",
       "4  Kolkata, Mumbai, New Delhi, Hyderabad, Pune, C...  Not disclosed  \n",
       "5  Kolkata, Mumbai, New Delhi, Hyderabad, Pune, C...  Not disclosed  \n",
       "6         Mumbai, Pune, Chennai, Gurugram, Bengaluru  Not disclosed  \n",
       "7  Kolkata, Mumbai, New Delhi, Hyderabad/Secunder...  Not disclosed  \n",
       "8  Kolkata, Mumbai, New Delhi, Hyderabad, Pune, C...  Not disclosed  \n",
       "9                                     Pune, Gurugram  Not disclosed  "
      ]
     },
     "execution_count": 21,
     "metadata": {},
     "output_type": "execute_result"
    }
   ],
   "source": [
    "df=pd.DataFrame({})\n",
    "df['Dessignation']=Designation_Tag[:10]\n",
    "df['Location']=Location_Tag[:10]\n",
    "df['Salary']=Salary_Tag[:10]\n",
    "df"
   ]
  },
  {
   "cell_type": "code",
   "execution_count": 56,
   "id": "6eadc260",
   "metadata": {},
   "outputs": [],
   "source": [
    "#SCRAPE DATA from shiine\n",
    "driver = webdriver.Chrome()"
   ]
  },
  {
   "cell_type": "code",
   "execution_count": 57,
   "id": "5500af05",
   "metadata": {},
   "outputs": [],
   "source": [
    "driver.get('https://www.shine.com/')"
   ]
  },
  {
   "cell_type": "code",
   "execution_count": 58,
   "id": "fd8c7a56",
   "metadata": {},
   "outputs": [],
   "source": [
    "Job_Search = driver.find_element(By.XPATH,\"/html/body/div/ul/li[2]/a/span\")\n",
    "Job_Search.click()\n"
   ]
  },
  {
   "cell_type": "code",
   "execution_count": 59,
   "id": "eac2415c",
   "metadata": {},
   "outputs": [],
   "source": [
    "#Enter Designation\n",
    "Designation = driver.find_element(By.XPATH,\"/html/body/div/div[2]/div/div/div[1]/div[1]/div/div[2]/div/div/form/div/div[1]/ul/li[1]/div/input\")\n",
    "Designation.send_keys('Data Scientist')"
   ]
  },
  {
   "cell_type": "code",
   "execution_count": 60,
   "id": "61990caf",
   "metadata": {},
   "outputs": [],
   "source": [
    "#Enter Location\n",
    "Location = driver.find_element(By.XPATH,\"/html/body/div/div[2]/div/div/div[1]/div[1]/div/div[2]/div/div/form/div/div[1]/ul/li[2]/div/input\")\n",
    "Location.send_keys(\"Bangalore\")"
   ]
  },
  {
   "cell_type": "code",
   "execution_count": 62,
   "id": "282c8acb",
   "metadata": {},
   "outputs": [],
   "source": [
    "#click on Search\n",
    "Search = driver.find_element(By.XPATH,\"/html/body/div/div[2]/div/div/div[1]/div[1]/div/div[2]/div/div/form/div/div[2]/div/button\")\n",
    "Search.click()"
   ]
  },
  {
   "cell_type": "code",
   "execution_count": 63,
   "id": "d2ac5bba",
   "metadata": {},
   "outputs": [],
   "source": [
    "Job_Title = []\n",
    "Job_Location = []"
   ]
  },
  {
   "cell_type": "code",
   "execution_count": 64,
   "id": "b18de464",
   "metadata": {},
   "outputs": [
    {
     "data": {
      "text/plain": [
       "['Data Scientist Opening',\n",
       " 'Data Scientist',\n",
       " 'Data Scientist Urgent Recruitment',\n",
       " 'Data Scientist Opening',\n",
       " 'Data Scientist Recruitment',\n",
       " 'Data Scientist Vacancy',\n",
       " 'Hiring For Data Scientist',\n",
       " 'Data Scientist Opening',\n",
       " 'Data Scientist Opening',\n",
       " 'Data Scientist Recruitment']"
      ]
     },
     "execution_count": 64,
     "metadata": {},
     "output_type": "execute_result"
    }
   ],
   "source": [
    "Designation = driver.find_elements(By.XPATH,\"//strong[@class='jobCard_pReplaceH2__xWmHg']\")\n",
    "\n",
    "for i in Designation:\n",
    "    Des =i.text\n",
    "    Job_Title.append(Des)\n",
    "Job_Title[:10] "
   ]
  },
  {
   "cell_type": "code",
   "execution_count": 65,
   "id": "1e839cf2",
   "metadata": {},
   "outputs": [
    {
     "data": {
      "text/plain": [
       "['Bangalore\\n+12',\n",
       " 'Bangalore\\n+4',\n",
       " 'Bangalore\\n+13',\n",
       " 'Bangalore\\n+13',\n",
       " 'Bangalore\\n+12',\n",
       " 'Bangalore\\n+13',\n",
       " 'Bangalore\\n+13',\n",
       " 'Bangalore\\n+15',\n",
       " 'Bangalore\\n+15',\n",
       " 'Bangalore\\n+9']"
      ]
     },
     "execution_count": 65,
     "metadata": {},
     "output_type": "execute_result"
    }
   ],
   "source": [
    "Location = driver.find_elements(By.XPATH,\"//div[@class=' jobCard_jobCard_lists_item__YxRkV jobCard_locationIcon__zrWt2']\")\n",
    "\n",
    "for i in Location:\n",
    "    loc =i.text\n",
    "    Job_Location.append(loc)\n",
    "Job_Location[:10] "
   ]
  },
  {
   "cell_type": "code",
   "execution_count": 75,
   "id": "6d873dd3",
   "metadata": {},
   "outputs": [
    {
     "data": {
      "text/html": [
       "<div>\n",
       "<style scoped>\n",
       "    .dataframe tbody tr th:only-of-type {\n",
       "        vertical-align: middle;\n",
       "    }\n",
       "\n",
       "    .dataframe tbody tr th {\n",
       "        vertical-align: top;\n",
       "    }\n",
       "\n",
       "    .dataframe thead th {\n",
       "        text-align: right;\n",
       "    }\n",
       "</style>\n",
       "<table border=\"1\" class=\"dataframe\">\n",
       "  <thead>\n",
       "    <tr style=\"text-align: right;\">\n",
       "      <th></th>\n",
       "      <th>Dessignation</th>\n",
       "      <th>Location</th>\n",
       "    </tr>\n",
       "  </thead>\n",
       "  <tbody>\n",
       "    <tr>\n",
       "      <th>0</th>\n",
       "      <td>Data Scientist Opening</td>\n",
       "      <td>Bangalore\\n+12</td>\n",
       "    </tr>\n",
       "    <tr>\n",
       "      <th>1</th>\n",
       "      <td>Data Scientist</td>\n",
       "      <td>Bangalore\\n+4</td>\n",
       "    </tr>\n",
       "    <tr>\n",
       "      <th>2</th>\n",
       "      <td>Data Scientist Urgent Recruitment</td>\n",
       "      <td>Bangalore\\n+13</td>\n",
       "    </tr>\n",
       "    <tr>\n",
       "      <th>3</th>\n",
       "      <td>Data Scientist Opening</td>\n",
       "      <td>Bangalore\\n+13</td>\n",
       "    </tr>\n",
       "    <tr>\n",
       "      <th>4</th>\n",
       "      <td>Data Scientist Recruitment</td>\n",
       "      <td>Bangalore\\n+12</td>\n",
       "    </tr>\n",
       "    <tr>\n",
       "      <th>5</th>\n",
       "      <td>Data Scientist Vacancy</td>\n",
       "      <td>Bangalore\\n+13</td>\n",
       "    </tr>\n",
       "    <tr>\n",
       "      <th>6</th>\n",
       "      <td>Hiring For Data Scientist</td>\n",
       "      <td>Bangalore\\n+13</td>\n",
       "    </tr>\n",
       "    <tr>\n",
       "      <th>7</th>\n",
       "      <td>Data Scientist Opening</td>\n",
       "      <td>Bangalore\\n+15</td>\n",
       "    </tr>\n",
       "    <tr>\n",
       "      <th>8</th>\n",
       "      <td>Data Scientist Opening</td>\n",
       "      <td>Bangalore\\n+15</td>\n",
       "    </tr>\n",
       "    <tr>\n",
       "      <th>9</th>\n",
       "      <td>Data Scientist Recruitment</td>\n",
       "      <td>Bangalore\\n+9</td>\n",
       "    </tr>\n",
       "  </tbody>\n",
       "</table>\n",
       "</div>"
      ],
      "text/plain": [
       "                        Dessignation        Location\n",
       "0             Data Scientist Opening  Bangalore\\n+12\n",
       "1                     Data Scientist   Bangalore\\n+4\n",
       "2  Data Scientist Urgent Recruitment  Bangalore\\n+13\n",
       "3             Data Scientist Opening  Bangalore\\n+13\n",
       "4         Data Scientist Recruitment  Bangalore\\n+12\n",
       "5             Data Scientist Vacancy  Bangalore\\n+13\n",
       "6          Hiring For Data Scientist  Bangalore\\n+13\n",
       "7             Data Scientist Opening  Bangalore\\n+15\n",
       "8             Data Scientist Opening  Bangalore\\n+15\n",
       "9         Data Scientist Recruitment   Bangalore\\n+9"
      ]
     },
     "execution_count": 75,
     "metadata": {},
     "output_type": "execute_result"
    }
   ],
   "source": [
    "df=pd.DataFrame({})\n",
    "df['Dessignation']=Job_Title[:10]\n",
    "df['Location']=Job_Location[:10]\n",
    "df"
   ]
  },
  {
   "cell_type": "code",
   "execution_count": 78,
   "id": "ae6de20d",
   "metadata": {},
   "outputs": [],
   "source": [
    "#Scrape 100 reviews data from flipkart.com for iphone11 phone. You have to go the link:\n",
    "driver = webdriver.Chrome()\n"
   ]
  },
  {
   "cell_type": "code",
   "execution_count": 79,
   "id": "3aa18328",
   "metadata": {},
   "outputs": [],
   "source": [
    "driver.get(\"https://www.flipkart.com/apple-iphone-11-black-64-gb/product-reviews/itm4e5041ba101fd?pid=MOBFWQ6BXGJCEYNY&lid=LSTMOBFWQ6BXGJCEYNYZXSHRJ&marketplace=FLIPKART\")"
   ]
  },
  {
   "cell_type": "code",
   "execution_count": 81,
   "id": "7d00208d",
   "metadata": {},
   "outputs": [],
   "source": [
    "Stars = []\n",
    "Review_Summary = []\n",
    "Full_Review = []"
   ]
  },
  {
   "cell_type": "code",
   "execution_count": 83,
   "id": "28227970",
   "metadata": {},
   "outputs": [
    {
     "data": {
      "text/plain": [
       "['5',\n",
       " '5',\n",
       " '5',\n",
       " '5',\n",
       " '5',\n",
       " '5',\n",
       " '5',\n",
       " '5',\n",
       " '5',\n",
       " '5',\n",
       " '5',\n",
       " '5',\n",
       " '5',\n",
       " '5',\n",
       " '5',\n",
       " '5',\n",
       " '5',\n",
       " '5',\n",
       " '5',\n",
       " '5']"
      ]
     },
     "execution_count": 83,
     "metadata": {},
     "output_type": "execute_result"
    }
   ],
   "source": [
    "Star_Rate = driver.find_elements(By.XPATH,\"//div[@class='_3LWZlK _1BLPMq']\")\n",
    "for i in Star_Rate:\n",
    "    R =i.text\n",
    "    Stars.append(R)\n",
    "Stars[:100]\n",
    "    \n"
   ]
  },
  {
   "cell_type": "code",
   "execution_count": 84,
   "id": "bba5bed8",
   "metadata": {},
   "outputs": [
    {
     "data": {
      "text/plain": [
       "['Photos super',\n",
       " 'Feeling awesome after getting the delivery of my phone. Dual speakers makes the sound quality very loud. Amazing!!',\n",
       " 'Good Camera',\n",
       " 'This is amazing at all',\n",
       " 'Value for money 😍',\n",
       " 'Camera is awesome\\nBest battery backup\\nA performer 👌🏻\\nIt will be a real value for money if they provide charger and earphone inbox!',\n",
       " 'It’s really awesome',\n",
       " 'Very very good',\n",
       " 'Perfect Product!!',\n",
       " 'Super🔥 and good performance 👌❤️']"
      ]
     },
     "execution_count": 84,
     "metadata": {},
     "output_type": "execute_result"
    }
   ],
   "source": [
    "Review_Sum = driver.find_elements(By.XPATH,\"//div[@class='t-ZTKy']\")\n",
    "for i in Review_Sum:\n",
    "    R =i.text\n",
    "    Review_Summary.append(R)\n",
    "Review_Summary[:100]"
   ]
  },
  {
   "cell_type": "code",
   "execution_count": 86,
   "id": "a75015dd",
   "metadata": {},
   "outputs": [
    {
     "data": {
      "text/plain": [
       "['Photos super',\n",
       " 'Feeling awesome after getting the delivery of my phone. Dual speakers makes the sound quality very loud. Amazing!!',\n",
       " 'Good Camera',\n",
       " 'This is amazing at all',\n",
       " 'Value for money 😍',\n",
       " 'Camera is awesome\\nBest battery backup\\nA performer 👌🏻\\nIt will be a real value for money if they provide charger and earphone inbox!',\n",
       " 'It’s really awesome',\n",
       " 'Very very good',\n",
       " 'Perfect Product!!',\n",
       " 'Super🔥 and good performance 👌❤️',\n",
       " 'Photos super',\n",
       " 'Feeling awesome after getting the delivery of my phone. Dual speakers makes the sound quality very loud. Amazing!!',\n",
       " 'Good Camera',\n",
       " 'This is amazing at all',\n",
       " 'Value for money 😍',\n",
       " 'Camera is awesome\\nBest battery backup\\nA performer 👌🏻\\nIt will be a real value for money if they provide charger and earphone inbox!',\n",
       " 'It’s really awesome',\n",
       " 'Very very good',\n",
       " 'Perfect Product!!',\n",
       " 'Super🔥 and good performance 👌❤️']"
      ]
     },
     "execution_count": 86,
     "metadata": {},
     "output_type": "execute_result"
    }
   ],
   "source": [
    "Review = driver.find_elements(By.XPATH,\"//p[@class='_2-N8zT']\")\n",
    "for i in Review_Sum:\n",
    "    R =i.text\n",
    "    Full_Review.append(R)\n",
    "Full_Review[:100]\n"
   ]
  },
  {
   "cell_type": "code",
   "execution_count": 92,
   "id": "57e97412",
   "metadata": {},
   "outputs": [],
   "source": [
    "#SNeakers 100 Data on Flipkart\n",
    "driver = webdriver.Chrome()\n"
   ]
  },
  {
   "cell_type": "code",
   "execution_count": 107,
   "id": "9e33cf12",
   "metadata": {},
   "outputs": [],
   "source": [
    "driver.get(\"https://www.flipkart.com/\")"
   ]
  },
  {
   "cell_type": "code",
   "execution_count": 108,
   "id": "7714b435",
   "metadata": {},
   "outputs": [],
   "source": [
    "Search = driver.find_element(By.XPATH,'/html/body/div[1]/div/div[1]/div/div/div/div/div[1]/div/div[1]/div/div[1]/div[1]/header/div[1]/div[2]/form/div/div/input')\n",
    "\n",
    "            "
   ]
  },
  {
   "cell_type": "code",
   "execution_count": 109,
   "id": "6d1b5244",
   "metadata": {},
   "outputs": [],
   "source": [
    "Search.send_keys(\"Sneakers\")"
   ]
  },
  {
   "cell_type": "code",
   "execution_count": 110,
   "id": "6c30fc6b",
   "metadata": {},
   "outputs": [],
   "source": [
    "Brand_Name = []"
   ]
  },
  {
   "cell_type": "code",
   "execution_count": 111,
   "id": "80464196",
   "metadata": {},
   "outputs": [
    {
     "data": {
      "text/plain": [
       "['Deals4you',\n",
       " 'ATOM',\n",
       " 'URBANBOX',\n",
       " 'Robbie jones',\n",
       " 'Layasa',\n",
       " 'GOLDSTAR',\n",
       " 'ATOM',\n",
       " 'BIRDE',\n",
       " 'PUMA',\n",
       " 'ATOM',\n",
       " 'ATOM',\n",
       " 'PUMA',\n",
       " 'PUMA',\n",
       " 'Abros',\n",
       " 'asian',\n",
       " 'Peelu',\n",
       " 'asian',\n",
       " 'RUN SEVEN',\n",
       " 'Abros',\n",
       " 'PUMA',\n",
       " 'ATOM',\n",
       " 'RUN SEVEN',\n",
       " 'PUMA',\n",
       " 'Robbie jones',\n",
       " 'Robbie jones',\n",
       " 'asian',\n",
       " 'RUN SEVEN',\n",
       " 'LACOSTE',\n",
       " 'ORICUM',\n",
       " 'PUMA',\n",
       " 'asian',\n",
       " 'LACOSTE',\n",
       " 'URBANBOX',\n",
       " 'Asics',\n",
       " 'asian',\n",
       " 'HOTSTYLE',\n",
       " 'LACOSTE',\n",
       " 'LACOSTE',\n",
       " 'aadi',\n",
       " 'RapidBox']"
      ]
     },
     "execution_count": 111,
     "metadata": {},
     "output_type": "execute_result"
    }
   ],
   "source": [
    "Brand = driver.find_elements(By.XPATH,\"//div[@class='_2WkVRV']\")\n",
    "for i in Brand:\n",
    "    B = i.text\n",
    "    Brand_Name.append(B)\n",
    "Brand_Name[:100]"
   ]
  },
  {
   "cell_type": "code",
   "execution_count": 112,
   "id": "23c79a45",
   "metadata": {},
   "outputs": [],
   "source": [
    "Prod_Desc = []"
   ]
  },
  {
   "cell_type": "code",
   "execution_count": 114,
   "id": "2be0f710",
   "metadata": {},
   "outputs": [
    {
     "data": {
      "text/plain": [
       "['Sneakers For Women',\n",
       " 'Alpha Predator Sneakers For Men',\n",
       " 'Trending Stylish Casual Outdoor Shoes Sneakers For Men',\n",
       " 'Casual Sneakers Colour Blocked Shoes For Boys And Men S...',\n",
       " 'Sneakers For Men',\n",
       " '612 Sneakers For Men',\n",
       " 'Spring Edge Alpha 2 Sneakers For Men',\n",
       " 'Premium Comfortable Memory Foam Regular Wear Walking Sh...',\n",
       " 'Flyumph Sneakers For Men',\n",
       " 'Spring Edge Alpha 2 Sneakers For Men',\n",
       " 'Spring Edge Alpha 2 Sneakers For Men',\n",
       " 'Shuffle Ultra Sneakers For Men',\n",
       " 'Player Sneakers For Men',\n",
       " 'Evander Sneakers For Men',\n",
       " 'Carnival-02 Mens High Top Casual Chunky Sneakers Sneake...',\n",
       " 'Carnival-02 Mens High Top Casual Chunky Sneakers For Me...',\n",
       " 'Seattle Sneakers For Men',\n",
       " 'Spring Edge Alpha 2 Sneakers For Men',\n",
       " 'Rideric Sneakers For Men',\n",
       " 'Sneakers For Men',\n",
       " 'Casual Sneakers Colour Blocked Shoes For Boys And Men S...',\n",
       " 'Tarzan-05 White Sneakers,Casuals,Loafers,Stylish With E...',\n",
       " '( by GO21 ) Soft Insole, Slip-Resistance|Walking Casual...',\n",
       " 'Sneakers For Men',\n",
       " 'Oricum Lightweight Sneakers Outdoor Daily Wear Shoes fo...',\n",
       " 'Resolve Modern Sneakers For Men',\n",
       " 'Tarzan-01 White Sneakers,Casuals,Walking,Stylish Extra ...',\n",
       " 'Sneakers For Men',\n",
       " 'Stylish & Trending Outdoor Walking Comfortable Sneakers...',\n",
       " 'fuzor B Sneakers For Men',\n",
       " 'Casual Sneaker Shoes For Women | Stylish and Comfortabl...',\n",
       " 'Designer Sneakers For Men',\n",
       " 'Sneakers For Men',\n",
       " 'Sneakers For Men',\n",
       " 'Aadi Men Black & Green Casual Sneaker Sneakers For Men',\n",
       " 'Sneakers For Men']"
      ]
     },
     "execution_count": 114,
     "metadata": {},
     "output_type": "execute_result"
    }
   ],
   "source": [
    "Product_Desc = driver.find_elements(By.XPATH,\"//a[@class='IRpwTa']\")\n",
    "for i in Product_Desc:\n",
    "    B = i.text\n",
    "    Prod_Desc.append(B)\n",
    "Prod_Desc[:100]"
   ]
  },
  {
   "cell_type": "code",
   "execution_count": 115,
   "id": "ef245d76",
   "metadata": {},
   "outputs": [],
   "source": [
    "Price = []"
   ]
  },
  {
   "cell_type": "code",
   "execution_count": 116,
   "id": "381fa13a",
   "metadata": {},
   "outputs": [
    {
     "data": {
      "text/plain": [
       "['₹379',\n",
       " '₹1,367',\n",
       " '₹299',\n",
       " '₹449',\n",
       " '₹403',\n",
       " '₹449',\n",
       " '₹1,094',\n",
       " '₹619',\n",
       " '₹2,399',\n",
       " '₹1,094',\n",
       " '₹1,094',\n",
       " '₹1,723',\n",
       " '₹1,096',\n",
       " '₹937',\n",
       " '₹982',\n",
       " '₹636',\n",
       " '₹982',\n",
       " '₹1,091',\n",
       " '₹1,699',\n",
       " '₹1,356',\n",
       " '₹1,094',\n",
       " '₹1,009',\n",
       " '₹1,642',\n",
       " '₹449',\n",
       " '₹449',\n",
       " '₹699',\n",
       " '₹1,091',\n",
       " '₹10,568',\n",
       " '₹641',\n",
       " '₹1,259',\n",
       " '₹699',\n",
       " '₹10,946',\n",
       " '₹299',\n",
       " '₹1,799',\n",
       " '₹749',\n",
       " '₹334',\n",
       " '₹10,870',\n",
       " '₹9,209',\n",
       " '₹499',\n",
       " '₹595']"
      ]
     },
     "execution_count": 116,
     "metadata": {},
     "output_type": "execute_result"
    }
   ],
   "source": [
    "Pr = driver.find_elements(By.XPATH,\"//div[@class='_30jeq3']\")\n",
    "for i in Pr:\n",
    "    B = i.text\n",
    "    Price.append(B)\n",
    "Price[:100]"
   ]
  },
  {
   "cell_type": "code",
   "execution_count": 117,
   "id": "466737ff",
   "metadata": {},
   "outputs": [],
   "source": [
    "#https://www.amazon.in/ scrap 10 data\n",
    "driver.get('https://www.amazon.in/')"
   ]
  },
  {
   "cell_type": "code",
   "execution_count": 124,
   "id": "7d083635",
   "metadata": {},
   "outputs": [],
   "source": [
    "search = driver.find_element(By.XPATH,\"/html/body/div[1]/header/div/div[1]/div[2]/div/form/div[2]/div[1]/input\")\n",
    "search.send_keys(\"Laptop\")"
   ]
  },
  {
   "cell_type": "code",
   "execution_count": 128,
   "id": "0478211a",
   "metadata": {},
   "outputs": [
    {
     "data": {
      "text/plain": [
       "<bound method WebElement.click of <selenium.webdriver.remote.webelement.WebElement (session=\"e6a03c1946c866cbc7f8b083f2ae0589\", element=\"f.4BAC481C8BA8AACF06473D66DC1951EB.d.E158BBD16204901006AB6A6FB08288A1.e.1186\")>>"
      ]
     },
     "execution_count": 128,
     "metadata": {},
     "output_type": "execute_result"
    }
   ],
   "source": [
    "sumit = driver.find_element(By.XPATH,'/html/body/div[1]/header/div/div[1]/div[2]/div/form/div[3]/div/span/input')\n",
    "sumit.click"
   ]
  },
  {
   "cell_type": "code",
   "execution_count": 131,
   "id": "ce23ae25",
   "metadata": {},
   "outputs": [],
   "source": [
    "CPU = driver.find_element(By.XPATH,'/html/body/div[1]/div[1]/div[1]/div[2]/div/div[3]/span/div[1]/div/div/div[1]/ul/span/span[1]/li/span/a/div/label/i')\n",
    "CPU.click()"
   ]
  },
  {
   "cell_type": "code",
   "execution_count": 132,
   "id": "37694837",
   "metadata": {},
   "outputs": [],
   "source": [
    "Title = []\n",
    "Rating = []\n",
    "Price = []\n"
   ]
  },
  {
   "cell_type": "code",
   "execution_count": 133,
   "id": "6bf5470c",
   "metadata": {},
   "outputs": [
    {
     "data": {
      "text/plain": [
       "['TECNO MEGABOOK T1,Intel Core 11th Gen i3 Processor (8GB RAM/512GB SSD Storage), 15.6-Inch(39.62 CM) Eye Comfort disply, (14.8mm Ultra Slim/70 Wh Large Battery/Windows 11/ Moonshine Silver / 1.56 Kg)',\n",
       " 'Acer Aspire Lite 12th Gen Intel Core i3-1215U Premium Metal Laptop (Windows 11 Home/8 GB RAM/512GB SSD) AL15-52, 39.62cm (15.6\") Full HD Display, Metal Body, Steel Gray, 1.59 Kg',\n",
       " 'Dell 14 Laptop, 12th Gen Intel Core i5-1235U Processor, 16GB, 512GB, 14.0\" (35.56cm) FHD Display, Windows 11 + MSO\\'21, Spill-Resistant Keyboard, 15 Month Mcafee, Black, Thin & Light- 1.48kg',\n",
       " 'HP Chromebook x360 Intel Celeron N4120 14 inch(35.6 cm) Micro-Edge, Touchscreen, 2-in-1 Laptop (4GB RAM/64GB eMMC/Chrome OS 64/UHD Graphics,1.49kg), 14a-ca0504TU',\n",
       " 'ASUS TUF Gaming F15, 15.6\"(39.62 cms) FHD 144Hz, Intel Core i7-11800H 11th Gen, 4GB NVIDIA GeForce RTX 3050 Ti, Gaming Laptop (16GB/512GB SSD/Windows 11/90WHrs Battery/Black/2.30 Kg), FX506HE-HN382W',\n",
       " 'JioBook 11 (2023) NB1112MM(BLU) (Mediatek 8788 Octa-core 2 GHz/ARM Mali G72 MP3 @800 MHz/29.5cms 60 Hz/Thin and Light Laptop/ 4 GB LPDDR4/ 64 GB eMMC/JioOS 4G LTE, Dual Band Wi-Fi/Blue/ 990 GMS)',\n",
       " 'Acer Aspire Lite 12th Gen Intel Core i5-1235U Thin and Light Laptop (Windows 11 Home/16GB RAM/512GB SSD/Intel Iris Xe Graphics) AL15-52, 39.62cm (15.6\") Full HD Display, Metal Body, Steel Gray, 1.6 KG',\n",
       " 'HP 15s 12th Gen Intel Core i5, 15/6inch (39.6 cm), 8GB RAM, 512GB SSD, Intel Iris Xe Graphics, Backlit Kb, (Win 11 Home, Natural Silver, 1.69kg), fq5202TU / fq5329TU',\n",
       " 'HP Laptop 14s, 12th Gen Intel Core i3-1215U, 14-inch (35.6 cm), FHD, 8GB DDR4, 512GB SSD, Intel UHD Graphics, Thin & Light, Dual Speakers (Win 11, MSO 2021, Silver, 1.46 kg), dy5008TU',\n",
       " 'HP Chromebook X360 Intel Celeron N4120 14 inch(35.6 cm) Micro-Edge, Touchscreen, 2-in-1 Laptop (4GB RAM/64GB eMMC/Chrome OS/Intel UHD Graphics,1.49Kg), 14a-ca0506TU']"
      ]
     },
     "execution_count": 133,
     "metadata": {},
     "output_type": "execute_result"
    }
   ],
   "source": [
    "Title_L = driver.find_elements(By.XPATH,\"//span[@class='a-size-medium a-color-base a-text-normal']\")\n",
    "for i  in Title_L:\n",
    "    t = i.text\n",
    "    Title.append(t)\n",
    "Title[:10]"
   ]
  },
  {
   "cell_type": "code",
   "execution_count": 139,
   "id": "b68d27ff",
   "metadata": {},
   "outputs": [
    {
     "data": {
      "text/plain": [
       "['23,990',\n",
       " '31,990',\n",
       " '52,990',\n",
       " '28,490',\n",
       " '67,990',\n",
       " '14,701',\n",
       " '45,990',\n",
       " '48,990',\n",
       " '37,490',\n",
       " '28,490']"
      ]
     },
     "execution_count": 139,
     "metadata": {},
     "output_type": "execute_result"
    }
   ],
   "source": [
    "Pp = driver.find_elements(By.XPATH,\"//span[@class='a-price-whole']\")\n",
    "for i in Pp:\n",
    "    t = i.text\n",
    "    Price.append(t)\n",
    "Price[:10]\n",
    "  \n",
    "                          "
   ]
  },
  {
   "cell_type": "code",
   "execution_count": null,
   "id": "250e9ae8",
   "metadata": {},
   "outputs": [],
   "source": []
  },
  {
   "cell_type": "code",
   "execution_count": 141,
   "id": "54a35fbc",
   "metadata": {},
   "outputs": [
    {
     "data": {
      "text/plain": [
       "['', '', '', '', '', '', '', '', '', '']"
      ]
     },
     "execution_count": 141,
     "metadata": {},
     "output_type": "execute_result"
    }
   ],
   "source": [
    "Rate = driver.find_elements(By.XPATH,'//span[@class=\"a-icon-alt\"]')\n",
    "for i in Rate:\n",
    "    t = i.text\n",
    "    Rating.append(t)\n",
    "Rating[:10] \n",
    "                          "
   ]
  },
  {
   "cell_type": "code",
   "execution_count": 10,
   "id": "84376158",
   "metadata": {},
   "outputs": [],
   "source": [
    "driver = webdriver.Chrome()"
   ]
  },
  {
   "cell_type": "code",
   "execution_count": 11,
   "id": "8e7b8db7",
   "metadata": {},
   "outputs": [],
   "source": [
    "driver.get(\"https://www.azquotes.com/\")"
   ]
  },
  {
   "cell_type": "code",
   "execution_count": 12,
   "id": "e9baf160",
   "metadata": {},
   "outputs": [],
   "source": [
    "Top_Quotes = driver.find_element(By.XPATH,\"//a[@href='/top_quotes.html']\")"
   ]
  },
  {
   "cell_type": "code",
   "execution_count": 16,
   "id": "4a8b1566",
   "metadata": {},
   "outputs": [
    {
     "data": {
      "text/plain": [
       "<bound method WebElement.click of <selenium.webdriver.remote.webelement.WebElement (session=\"13d2301c5aca57e2a140d6efeb971f38\", element=\"f.BFC536384C9C201752666D1CF1F32439.d.AD2E70A006CDE4970989E39B65C284CA.e.147\")>>"
      ]
     },
     "execution_count": 16,
     "metadata": {},
     "output_type": "execute_result"
    }
   ],
   "source": [
    "Top_Quotes.click"
   ]
  },
  {
   "cell_type": "code",
   "execution_count": 17,
   "id": "74f936a7",
   "metadata": {},
   "outputs": [],
   "source": [
    "Quote = driver.find_elements(By.XPATH,\"//a[@class='title']\")"
   ]
  },
  {
   "cell_type": "code",
   "execution_count": 18,
   "id": "bd70fc8d",
   "metadata": {},
   "outputs": [],
   "source": [
    "Quotes = []\n",
    "Author = []\n",
    "Type = []"
   ]
  },
  {
   "cell_type": "code",
   "execution_count": 19,
   "id": "ce852d42",
   "metadata": {},
   "outputs": [
    {
     "data": {
      "text/plain": [
       "['The essence of strategy is choosing what not to do.',\n",
       " 'One cannot and must not try to erase the past merely because it does not fit the present.',\n",
       " 'Patriotism means to stand by the country. It does not mean to stand by the president.',\n",
       " 'Death is something inevitable. When a man has done what he considers to be his duty to his people and his country, he can rest in peace. I believe I have made that effort and that is, therefore, why I will sleep for the eternity.',\n",
       " 'You have to love a nation that celebrates its independence every July 4, not with a parade of guns, tanks, and soldiers who file by the White House in a show of strength and muscle, but with family picnics where kids throw Frisbees, the potato salad gets iffy, and the flies die from happiness. You may think you have overeaten, but it is patriotism.',\n",
       " 'Be more concerned with your character than your reputation, because your character is what you really are, while your reputation is merely what others think you are.',\n",
       " 'Weak people revenge. Strong people forgive. Intelligent People Ignore.',\n",
       " \"A mind is like a parachute. It doesn't work if it is not open.\",\n",
       " 'Never be afraid to raise your voice for honesty and truth and compassion against injustice and lying and greed. If people all over the world...would do this, it would change the earth.',\n",
       " 'There are three kinds of men. The one that learns by reading. The few who learn by observation. The rest of them have to pee on the electric fence for themselves.',\n",
       " \"A strong nation, like a strong person, can afford to be gentle, firm, thoughtful, and restrained. It can afford to extend a helping hand to others. It's a weak nation, like a weak person, that must behave with bluster and boasting and rashness and other signs of insecurity.\",\n",
       " 'The difference between stupidity and genius is that genius has its limits.',\n",
       " 'We the people are the rightful masters of both Congress and the courts, not to overthrow the Constitution but to overthrow the men who pervert the Constitution.',\n",
       " 'With or without religion, you would have good people doing good things and evil people doing evil things. But for good people to do evil things, that takes religion.',\n",
       " 'Human kindness has never weakened the stamina or softened the fiber of a free people. A nation does not have to be cruel to be tough.',\n",
       " 'A person who never made a mistake never tried anything new.',\n",
       " 'My mission in life is not merely to survive, but to thrive; and to do so with some passion, some compassion, some humor, and some style',\n",
       " 'Life is short, Break the Rules. Forgive quickly, Kiss slowly. Love truly. Laugh uncontrollably And never regret ANYTHING That makes you smile.',\n",
       " 'This country will not be a good place for any of us to live in unless we make it a good place for all of us to live in.',\n",
       " 'In a world filled with hate, we must still dare to hope. In a world filled with anger, we must still dare to comfort. In a world filled with despair, we must still dare to dream. And in a world filled with distrust, we must still dare to believe.',\n",
       " 'Darkness cannot drive out darkness; only light can do that. Hate cannot drive out hate; only love can do that.',\n",
       " 'To be a Christian means to forgive the inexcusable because God has forgiven the inexcusable in you.',\n",
       " 'A man who is good enough to shed his blood for the country is good enough to be given a square deal afterwards.',\n",
       " 'Kindness is the language which the deaf can hear and the blind can see.',\n",
       " 'Most folks are as happy as they make up their minds to be.',\n",
       " 'A happy marriage is the union of two good forgivers.',\n",
       " 'I believe in Christianity as I believe that the sun has risen: not only because I see it, but because by it I see everything else.',\n",
       " 'Politics is the art of looking for trouble, finding it everywhere, diagnosing it incorrectly and applying the wrong remedies.',\n",
       " \"I believe in everything until it's disproved. So I believe in fairies, the myths, dragons. It all exists, even if it's in your mind. Who's to say that dreams and nightmares aren't as real as the here and now?\",\n",
       " 'At the end of your life, you will never regret not having passed one more test, not winning one more verdict or not closing one more deal. You will regret time not spent with a husband, a friend, a child, or a parent.',\n",
       " 'I never think of the future - it comes soon enough.',\n",
       " \"Our greatest fear should not be of failure but of succeeding at things in life that don't really matter.\",\n",
       " 'Failure is simply the opportunity to begin again, this time more intelligently.',\n",
       " 'Music expresses that which cannot be put into words.',\n",
       " 'Good actions are a guard against the blows of adversity.',\n",
       " 'Positive thinking will let you do everything better than negative thinking will.',\n",
       " \"You have enemies? Good. That means you've stood up for something, sometime in your life.\",\n",
       " \"You don't have to be great to start, but you have to start to be great\",\n",
       " 'Let every nation know, whether it wishes us well or ill, that we shall pay any price, bear any burden, meet any hardship, support any friend, oppose any foe to assure the survival and the success of liberty.',\n",
       " \"If you want total security, go to prison. There you're fed, clothed, given medical care and so on. The only thing lacking... is freedom.\",\n",
       " 'Socialism is a philosophy of failure, the creed of ignorance, and the gospel of envy, its inherent virtue is the equal sharing of misery.',\n",
       " 'It is the supreme art of the teacher to awaken joy in creative expression and knowledge.',\n",
       " \"Once you replace negative thoughts with positive ones, you'll start having positive results.\",\n",
       " \"You build on failure. You use it as a stepping stone. Close the door on the past. You don't try to forget the mistakes, but you don't dwell on it. You don't let it have any of your energy, or any of your time, or any of your space.\",\n",
       " 'All my life through, the new sights of Nature made me rejoice like a child.',\n",
       " \"I've learned that people will forget what you said, people will forget what you did, but people will never forget how you made them feel.\",\n",
       " 'Marriage is not a ritual or an end. It is a long, intricate, intimate dance together and nothing matters more than your own sense of balance and your choice of partner.',\n",
       " 'When obstacles arise, you change your direction to reach your goal; you do not change your decision to get there.',\n",
       " 'Time you enjoy wasting, was not wasted.',\n",
       " 'The next time some academics tell you how important diversity is, ask how many Republicans there are in their sociology department.',\n",
       " 'Faith is not the belief that God will do what you want. It is the belief that God will do what is right.',\n",
       " \"If you can't fly then run, if you can't run then walk, if you can't walk then crawl, but whatever you do you have to keep moving forward.\",\n",
       " 'It is hard to imagine a more stupid or more dangerous way of making decisions than by putting those decisions in the hands of people who pay no price for being wrong.',\n",
       " 'I say that the most liberating thing about beauty is realizing that you are the beholder.',\n",
       " 'The ultimate measure of a man is not where he stands in moments of comfort and convenience, but where he stands at times of challenge and controversy.',\n",
       " 'The soldier, above all other people, prays for peace, for he must suffer and bear the deepest wounds and scars of war.',\n",
       " 'A true leader has the confidence to stand alone, the courage to make tough decisions, and the compassion to listen to the needs of others. He does not set out to be a leader, but becomes one by the equality of his actions and the integrity of his intent.',\n",
       " 'I am a Soldier, I fight where I am told, and I win where I fight.',\n",
       " \"Trying to do the Lord's work in your own strength is the most confusing, exhausting, and tedious of all work. But when you are filled with the Holy Spirit, then the ministry of Jesus just flows out of you.\",\n",
       " \"Sports for me is when a guy walks off the court, and you really can't tell whether he won or lost, when he carries himself with pride either way.\",\n",
       " 'Expect the best. Prepare for the worst. Capitalize on what comes.',\n",
       " 'I became insane, with long intervals of horrible sanity.',\n",
       " 'Failure is a detour, not a dead-end street.',\n",
       " 'I am not a product of my circumstances. I am a product of my decisions.',\n",
       " 'You can cut all the flowers but you cannot keep spring from coming.',\n",
       " \"Life doesn't run away from nobody. Life runs at people.\",\n",
       " 'In order to succeed, your desire for success should be greater than your fear of failure.',\n",
       " \"It's difficult to think anything but pleasant thoughts while eating a homegrown tomato.\",\n",
       " 'Too many of us are not living our dreams because we are living our fears.',\n",
       " 'If the only prayer you ever say in your entire life is thank you, it will be enough.',\n",
       " \"It's just a job. Grass grows, birds fly, waves pound the sand. I beat people up.\",\n",
       " 'A man must be big enough to admit his mistakes, smart enough to profit from them, and strong enough to correct them.',\n",
       " 'Our greatest weakness lies in giving up. The most certain way to succeed is always to try just one more time.',\n",
       " \"It has been said, 'time heals all wounds.' I do not agree. The wounds remain. In time, the mind, protecting its sanity, covers them with scar tissue and the pain lessens. But it is never gone.\",\n",
       " 'This is one small step for a man, one giant leap for mankind.',\n",
       " \"I have held many things in my hands, and I have lost them all; but whatever I have placed in God's hands, that I still possess.\",\n",
       " \"Welfare's purpose should be to eliminate, as far as possible, the need for its own existence.\",\n",
       " 'Each time, before you intercede, be quiet first, and worship God in His glory. Think of what He can do, and how He delights to hear the prayers of His redeemed people. Think of your place and privilege in Christ, and expect great things!',\n",
       " \"Failure is not the opposite of success; it's part of success.\",\n",
       " 'No one has ever become poor by giving.',\n",
       " 'It is not my ability, but my response to God’s ability, that counts.',\n",
       " 'No one is born hating another person because of the color of his skin, or his background, or his religion. People must learn to hate, and if they can learn to hate, they can be taught to love, for love comes more naturally to the human heart than its opposite.',\n",
       " 'No matter what people tell you, words and ideas can change the world.',\n",
       " 'A man should never neglect his family for business.',\n",
       " 'Those who dare to fail miserably can achieve greatly.',\n",
       " 'The two most important days in your life are the day you are born and the day you find out why.',\n",
       " 'We must be global Christians with a global vision because our God is a global God.',\n",
       " 'With everything that has happened to you, you can either feel sorry for yourself or treat what has happened as a gift. Everything is either an opportunity to grow or an obstacle to keep you from growing. You get to choose.',\n",
       " 'Don’t let the noise of others’ opinions drown out your own inner voice.',\n",
       " 'History, despite its wrenching pain, cannot be unlived, but if faced with courage, need not be lived again.',\n",
       " \"How old would you be if you didn't know how old you are?\",\n",
       " 'Leadership is a privilege to better the lives of others. It is not an opportunity to satisfy personal greed.',\n",
       " 'If you have good thoughts they will shine out of your face like sunbeams and you will always look lovely.',\n",
       " 'Never cut a tree down in the wintertime. Never make a negative decision in the low time. Never make your most important decisions when you are in your worst moods. Wait. Be patient. The storm will pass. The spring will come.',\n",
       " 'An optimist stays up until midnight to see the new year in. A pessimist stays up to make sure the old year leaves.',\n",
       " 'When the going gets weird, the weird turn pro.',\n",
       " \"When a train goes through a tunnel and it gets dark, you don't throw away the ticket and jump off. You sit still and trust the engineer.\",\n",
       " 'If you think you are too small to make a difference, try sleeping with a mosquito.',\n",
       " \"God doesn't require us to succeed, he only requires that you try.\",\n",
       " 'Change your thoughts and you change your world.']"
      ]
     },
     "execution_count": 19,
     "metadata": {},
     "output_type": "execute_result"
    }
   ],
   "source": [
    "Quote = driver.find_elements(By.XPATH,\"//a[@class='title']\")\n",
    "for i in Quote:\n",
    "    x= i.text\n",
    "    Quotes.append(x)\n",
    "Quotes[:1000]"
   ]
  },
  {
   "cell_type": "code",
   "execution_count": 21,
   "id": "8e21e069",
   "metadata": {},
   "outputs": [
    {
     "data": {
      "text/plain": [
       "['Michael Porter',\n",
       " 'Golda Meir',\n",
       " 'Theodore Roosevelt',\n",
       " 'Nelson Mandela',\n",
       " 'Erma Bombeck',\n",
       " 'John Wooden',\n",
       " 'Albert Einstein',\n",
       " 'Frank Zappa',\n",
       " 'William Faulkner',\n",
       " 'Will Rogers',\n",
       " 'Jimmy Carter',\n",
       " 'Albert Einstein',\n",
       " 'Abraham Lincoln',\n",
       " 'Steven Weinberg',\n",
       " 'Franklin D. Roosevelt',\n",
       " 'Albert Einstein',\n",
       " 'Maya Angelou',\n",
       " 'Mark Twain',\n",
       " 'Theodore Roosevelt',\n",
       " 'Michael Jackson',\n",
       " 'Martin Luther King, Jr.',\n",
       " 'C. S. Lewis',\n",
       " 'Theodore Roosevelt',\n",
       " 'Mark Twain',\n",
       " 'Abraham Lincoln',\n",
       " 'Ruth Graham',\n",
       " 'C. S. Lewis',\n",
       " 'Groucho Marx',\n",
       " 'John Lennon',\n",
       " 'Barbara Bush',\n",
       " 'Albert Einstein',\n",
       " 'Francis Chan',\n",
       " 'Henry Ford',\n",
       " 'Victor Hugo',\n",
       " 'Abu Bakr',\n",
       " 'Zig Ziglar',\n",
       " 'Winston Churchill',\n",
       " 'Zig Ziglar',\n",
       " 'John F. Kennedy',\n",
       " 'Dwight D. Eisenhower',\n",
       " 'Winston Churchill',\n",
       " 'Albert Einstein',\n",
       " 'Willie Nelson',\n",
       " 'Johnny Cash',\n",
       " 'Marie Curie',\n",
       " 'Maya Angelou',\n",
       " 'Amy Bloom',\n",
       " 'Zig Ziglar',\n",
       " 'John Lennon',\n",
       " 'Thomas Sowell',\n",
       " 'Max Lucado',\n",
       " 'Martin Luther King, Jr.',\n",
       " 'Thomas Sowell',\n",
       " 'Salma Hayek',\n",
       " 'Martin Luther King, Jr.',\n",
       " 'Douglas MacArthur',\n",
       " 'Douglas MacArthur',\n",
       " 'George S. Patton',\n",
       " 'Corrie Ten Boom',\n",
       " 'Jim Courier',\n",
       " 'Zig Ziglar',\n",
       " 'Edgar Allan Poe',\n",
       " 'Zig Ziglar',\n",
       " 'Stephen Covey',\n",
       " 'Pablo Neruda',\n",
       " 'Joe Frazier',\n",
       " 'Bill Cosby',\n",
       " 'Lewis Grizzard',\n",
       " 'Les Brown',\n",
       " 'Meister Eckhart',\n",
       " 'Muhammad Ali',\n",
       " 'John C. Maxwell',\n",
       " 'Thomas A. Edison',\n",
       " 'Rose Kennedy',\n",
       " 'Neil Armstrong',\n",
       " 'Martin Luther',\n",
       " 'Ronald Reagan',\n",
       " 'Andrew Murray',\n",
       " 'Arianna Huffington',\n",
       " 'Anne Frank',\n",
       " 'Corrie Ten Boom',\n",
       " 'Nelson Mandela',\n",
       " 'Robin Williams',\n",
       " 'Walt Disney',\n",
       " 'John F. Kennedy',\n",
       " 'Mark Twain',\n",
       " 'John Stott',\n",
       " 'Wayne Dyer',\n",
       " 'Steve Jobs',\n",
       " 'Maya Angelou',\n",
       " 'Satchel Paige',\n",
       " 'Mwai Kibaki',\n",
       " 'Roald Dahl',\n",
       " 'Robert H. Schuller',\n",
       " 'Bill Vaughan',\n",
       " 'Hunter S. Thompson',\n",
       " 'Corrie Ten Boom',\n",
       " 'Dalai Lama',\n",
       " 'Mother Teresa',\n",
       " 'Norman Vincent Peale']"
      ]
     },
     "execution_count": 21,
     "metadata": {},
     "output_type": "execute_result"
    }
   ],
   "source": [
    "Authors = driver.find_elements(By.XPATH,\"//div[@class='author']\")\n",
    "for i in Authors:\n",
    "    x = i.text\n",
    "    Author.append(x)\n",
    "Author[:1000] "
   ]
  },
  {
   "cell_type": "code",
   "execution_count": 22,
   "id": "692706f3",
   "metadata": {},
   "outputs": [
    {
     "data": {
      "text/plain": [
       "['Essence, Deep Thought, Transcendentalism',\n",
       " 'Inspiration, Past, Trying',\n",
       " 'Country, Peace, War',\n",
       " 'Inspirational, Motivational, Death',\n",
       " '4th Of July, Food, Patriotic',\n",
       " 'Inspirational, Success, Basketball',\n",
       " 'Strong, Revenge, Intelligent',\n",
       " 'Inspirational, Teacher, Religious',\n",
       " 'Truth, Honesty, Lying',\n",
       " 'Funny, Reading, Learning',\n",
       " 'Strong, Thoughtful, Compassion',\n",
       " 'Love, Funny, Life',\n",
       " 'Freedom, Men, Democracies Have',\n",
       " 'God, Religious, Atheist',\n",
       " 'Respect, Kindness, Character',\n",
       " 'Inspirational, Motivational, Change',\n",
       " 'Inspirational, Life, Inspiring',\n",
       " 'Love, Inspirational, Life',\n",
       " 'Inspiring, Country, 4th Of July',\n",
       " 'Inspirational, Dream, Hate',\n",
       " 'Love, Inspirational, Life',\n",
       " 'Forgiveness, God, Christian',\n",
       " 'Country, Men, Squares',\n",
       " 'Inspirational, Relationship, Positive',\n",
       " 'Inspirational, Motivational, Positive',\n",
       " 'Love, Friendship, Relationship',\n",
       " 'Faith, God, Christian',\n",
       " 'Art, Freedom, Political Will',\n",
       " 'Inspirational, Life, Faith',\n",
       " 'Inspirational, Life, Meaningful',\n",
       " 'Happiness, Time, Clever',\n",
       " 'Inspirational, Inspiring, Success',\n",
       " 'Love, Inspirational, Life',\n",
       " 'Music, Sound And Music, Musical Life',\n",
       " 'Adversity, Blow, Action',\n",
       " 'Positive, Thinking Of You, Attitude',\n",
       " 'Inspirational, Funny, Life',\n",
       " 'Inspirational, Life, Motivational',\n",
       " 'Inspirational, Memorial Day, Freedom',\n",
       " 'Freedom, Patriotic, Vaccines',\n",
       " 'Philosophy, Ignorance, Democratic Socialism',\n",
       " 'Inspirational, Dance, Education',\n",
       " 'Life, Change, Positive',\n",
       " 'Life, Bullying, Mistake',\n",
       " 'Life, Nature, Children',\n",
       " 'Inspirational, Life, Motivational',\n",
       " 'Marriage, Love You, Long',\n",
       " 'Inspirational, Motivational, Success',\n",
       " 'Love, Inspirational, Life',\n",
       " 'Diversity, Important, Liberty',\n",
       " 'Inspirational, God, Faith',\n",
       " 'Inspirational, Motivational, Inspiring',\n",
       " 'Business, Stupid, Government',\n",
       " 'Beauty, Love Yourself, Your Beautiful',\n",
       " 'Inspirational, Life, Motivational',\n",
       " 'Peace, Military, War',\n",
       " 'Inspirational, Leadership, Confidence',\n",
       " 'Motivational, Military, War',\n",
       " 'Christian, Jesus, Confusing',\n",
       " 'Inspirational, Success, Sports',\n",
       " 'Inspirational, Motivational, Success',\n",
       " 'Inspirational, Life, Clever',\n",
       " 'Inspirational, Death, Failure',\n",
       " 'Inspirational, Life, Motivational',\n",
       " 'Inspiring, Hope, Spring',\n",
       " 'Motivational, Running, People',\n",
       " 'Inspirational, Motivational, Positive',\n",
       " 'Summer, Food, Garden',\n",
       " 'Inspirational, Life, Motivational',\n",
       " 'Inspirational, Life, Thank You',\n",
       " 'Funny, Sports, Jobs',\n",
       " 'Being Strong, Wisdom, Stay Strong',\n",
       " 'Inspirational, Motivational, Positive',\n",
       " 'Time, Pain, Get Well',\n",
       " 'Motivational, Positive, Moon',\n",
       " 'Life, God, Christian',\n",
       " 'President, Needs, Purpose',\n",
       " 'God, Faith, Christian',\n",
       " 'Women, Failure, Successful',\n",
       " 'Inspirational, Morning, Kindness',\n",
       " 'Hiding Place, Ability, Baby Boom',\n",
       " 'Love, Inspirational, Life',\n",
       " 'Inspirational, Change, Philosophy',\n",
       " 'Inspirational, Family, Inspiring',\n",
       " 'Inspirational, Success, Courage',\n",
       " 'Inspirational, Life, Motivational',\n",
       " 'Christian, Vision, Missionary',\n",
       " 'Inspirational, Positive, Regret',\n",
       " 'Love, Inspirational, Life',\n",
       " 'Inspirational, Life, Encouragement',\n",
       " 'Happy Birthday, Baseball, Fun',\n",
       " 'Leadership, Power, Opportunity',\n",
       " 'Inspirational, Life, Positive',\n",
       " 'Inspirational, Encouraging, Patience',\n",
       " 'New Year, Fun, New Beginnings',\n",
       " 'Music, Sports, Hunting',\n",
       " 'Trust, Encouraging, Uplifting',\n",
       " 'Inspirational, Funny, Change',\n",
       " 'Success, God, Mother',\n",
       " 'Inspirational, Motivational, Change']"
      ]
     },
     "execution_count": 22,
     "metadata": {},
     "output_type": "execute_result"
    }
   ],
   "source": [
    "Types = driver.find_elements(By.XPATH,'//div[@class=\"tags\"]')\n",
    "for i in Types:\n",
    "    x = i.text\n",
    "    Type.append(x)\n",
    "Type[:1000]"
   ]
  },
  {
   "cell_type": "code",
   "execution_count": 27,
   "id": "837298ac",
   "metadata": {},
   "outputs": [
    {
     "data": {
      "text/html": [
       "<div>\n",
       "<style scoped>\n",
       "    .dataframe tbody tr th:only-of-type {\n",
       "        vertical-align: middle;\n",
       "    }\n",
       "\n",
       "    .dataframe tbody tr th {\n",
       "        vertical-align: top;\n",
       "    }\n",
       "\n",
       "    .dataframe thead th {\n",
       "        text-align: right;\n",
       "    }\n",
       "</style>\n",
       "<table border=\"1\" class=\"dataframe\">\n",
       "  <thead>\n",
       "    <tr style=\"text-align: right;\">\n",
       "      <th></th>\n",
       "      <th>Quote</th>\n",
       "      <th>Author</th>\n",
       "      <th>Type of Quote</th>\n",
       "    </tr>\n",
       "  </thead>\n",
       "  <tbody>\n",
       "    <tr>\n",
       "      <th>0</th>\n",
       "      <td>&lt;selenium.webdriver.remote.webelement.WebEleme...</td>\n",
       "      <td>Michael Porter</td>\n",
       "      <td>Essence, Deep Thought, Transcendentalism</td>\n",
       "    </tr>\n",
       "    <tr>\n",
       "      <th>1</th>\n",
       "      <td>&lt;selenium.webdriver.remote.webelement.WebEleme...</td>\n",
       "      <td>Golda Meir</td>\n",
       "      <td>Inspiration, Past, Trying</td>\n",
       "    </tr>\n",
       "    <tr>\n",
       "      <th>2</th>\n",
       "      <td>&lt;selenium.webdriver.remote.webelement.WebEleme...</td>\n",
       "      <td>Theodore Roosevelt</td>\n",
       "      <td>Country, Peace, War</td>\n",
       "    </tr>\n",
       "    <tr>\n",
       "      <th>3</th>\n",
       "      <td>&lt;selenium.webdriver.remote.webelement.WebEleme...</td>\n",
       "      <td>Nelson Mandela</td>\n",
       "      <td>Inspirational, Motivational, Death</td>\n",
       "    </tr>\n",
       "    <tr>\n",
       "      <th>4</th>\n",
       "      <td>&lt;selenium.webdriver.remote.webelement.WebEleme...</td>\n",
       "      <td>Erma Bombeck</td>\n",
       "      <td>4th Of July, Food, Patriotic</td>\n",
       "    </tr>\n",
       "    <tr>\n",
       "      <th>...</th>\n",
       "      <td>...</td>\n",
       "      <td>...</td>\n",
       "      <td>...</td>\n",
       "    </tr>\n",
       "    <tr>\n",
       "      <th>95</th>\n",
       "      <td>&lt;selenium.webdriver.remote.webelement.WebEleme...</td>\n",
       "      <td>Hunter S. Thompson</td>\n",
       "      <td>Music, Sports, Hunting</td>\n",
       "    </tr>\n",
       "    <tr>\n",
       "      <th>96</th>\n",
       "      <td>&lt;selenium.webdriver.remote.webelement.WebEleme...</td>\n",
       "      <td>Corrie Ten Boom</td>\n",
       "      <td>Trust, Encouraging, Uplifting</td>\n",
       "    </tr>\n",
       "    <tr>\n",
       "      <th>97</th>\n",
       "      <td>&lt;selenium.webdriver.remote.webelement.WebEleme...</td>\n",
       "      <td>Dalai Lama</td>\n",
       "      <td>Inspirational, Funny, Change</td>\n",
       "    </tr>\n",
       "    <tr>\n",
       "      <th>98</th>\n",
       "      <td>&lt;selenium.webdriver.remote.webelement.WebEleme...</td>\n",
       "      <td>Mother Teresa</td>\n",
       "      <td>Success, God, Mother</td>\n",
       "    </tr>\n",
       "    <tr>\n",
       "      <th>99</th>\n",
       "      <td>&lt;selenium.webdriver.remote.webelement.WebEleme...</td>\n",
       "      <td>Norman Vincent Peale</td>\n",
       "      <td>Inspirational, Motivational, Change</td>\n",
       "    </tr>\n",
       "  </tbody>\n",
       "</table>\n",
       "<p>100 rows × 3 columns</p>\n",
       "</div>"
      ],
      "text/plain": [
       "                                                Quote                Author  \\\n",
       "0   <selenium.webdriver.remote.webelement.WebEleme...        Michael Porter   \n",
       "1   <selenium.webdriver.remote.webelement.WebEleme...            Golda Meir   \n",
       "2   <selenium.webdriver.remote.webelement.WebEleme...    Theodore Roosevelt   \n",
       "3   <selenium.webdriver.remote.webelement.WebEleme...        Nelson Mandela   \n",
       "4   <selenium.webdriver.remote.webelement.WebEleme...          Erma Bombeck   \n",
       "..                                                ...                   ...   \n",
       "95  <selenium.webdriver.remote.webelement.WebEleme...    Hunter S. Thompson   \n",
       "96  <selenium.webdriver.remote.webelement.WebEleme...       Corrie Ten Boom   \n",
       "97  <selenium.webdriver.remote.webelement.WebEleme...            Dalai Lama   \n",
       "98  <selenium.webdriver.remote.webelement.WebEleme...         Mother Teresa   \n",
       "99  <selenium.webdriver.remote.webelement.WebEleme...  Norman Vincent Peale   \n",
       "\n",
       "                               Type of Quote  \n",
       "0   Essence, Deep Thought, Transcendentalism  \n",
       "1                  Inspiration, Past, Trying  \n",
       "2                        Country, Peace, War  \n",
       "3         Inspirational, Motivational, Death  \n",
       "4               4th Of July, Food, Patriotic  \n",
       "..                                       ...  \n",
       "95                    Music, Sports, Hunting  \n",
       "96             Trust, Encouraging, Uplifting  \n",
       "97              Inspirational, Funny, Change  \n",
       "98                      Success, God, Mother  \n",
       "99       Inspirational, Motivational, Change  \n",
       "\n",
       "[100 rows x 3 columns]"
      ]
     },
     "execution_count": 27,
     "metadata": {},
     "output_type": "execute_result"
    }
   ],
   "source": [
    "df = pd.DataFrame({})\n",
    "df['Quote']= Quote[:1000] \n",
    "df['Author']= Author[:1000]\n",
    "df['Type of Quote']= Type[:1000]\n",
    "df"
   ]
  },
  {
   "cell_type": "code",
   "execution_count": 29,
   "id": "588fe680",
   "metadata": {},
   "outputs": [],
   "source": [
    "#PM dataFrame\n",
    "#driver.get('https://www.jagranjosh.com/general-knowledge/list-of-all-prime-ministers-of-india-1473165149-1')"
   ]
  },
  {
   "cell_type": "code",
   "execution_count": 33,
   "id": "22da2eef",
   "metadata": {},
   "outputs": [
    {
     "ename": "NoSuchElementException",
     "evalue": "Message: no such element: Unable to locate element: {\"method\":\"xpath\",\"selector\":\"//table[@class='tableizer-table']\"}\n  (Session info: chrome=123.0.6312.106); For documentation on this error, please visit: https://www.selenium.dev/documentation/webdriver/troubleshooting/errors#no-such-element-exception\nStacktrace:\n\tGetHandleVerifier [0x00007FF6ACA77032+63090]\n\t(No symbol) [0x00007FF6AC9E2C82]\n\t(No symbol) [0x00007FF6AC87EC65]\n\t(No symbol) [0x00007FF6AC8C499D]\n\t(No symbol) [0x00007FF6AC8C4ADC]\n\t(No symbol) [0x00007FF6AC905B37]\n\t(No symbol) [0x00007FF6AC8E701F]\n\t(No symbol) [0x00007FF6AC903412]\n\t(No symbol) [0x00007FF6AC8E6D83]\n\t(No symbol) [0x00007FF6AC8B83A8]\n\t(No symbol) [0x00007FF6AC8B9441]\n\tGetHandleVerifier [0x00007FF6ACE725AD+4238317]\n\tGetHandleVerifier [0x00007FF6ACEAF70D+4488525]\n\tGetHandleVerifier [0x00007FF6ACEA79EF+4456495]\n\tGetHandleVerifier [0x00007FF6ACB50576+953270]\n\t(No symbol) [0x00007FF6AC9EE54F]\n\t(No symbol) [0x00007FF6AC9E9224]\n\t(No symbol) [0x00007FF6AC9E935B]\n\t(No symbol) [0x00007FF6AC9D9B94]\n\tBaseThreadInitThunk [0x00007FF8430B7344+20]\n\tRtlUserThreadStart [0x00007FF8444C26B1+33]\n",
     "output_type": "error",
     "traceback": [
      "\u001b[1;31m---------------------------------------------------------------------------\u001b[0m",
      "\u001b[1;31mNoSuchElementException\u001b[0m                    Traceback (most recent call last)",
      "Cell \u001b[1;32mIn[33], line 12\u001b[0m\n\u001b[0;32m      9\u001b[0m driver\u001b[38;5;241m.\u001b[39mget(url)\n\u001b[0;32m     11\u001b[0m \u001b[38;5;66;03m# Find the table containing the data\u001b[39;00m\n\u001b[1;32m---> 12\u001b[0m table \u001b[38;5;241m=\u001b[39m driver\u001b[38;5;241m.\u001b[39mfind_element(By\u001b[38;5;241m.\u001b[39mXPATH,\u001b[38;5;124m\"\u001b[39m\u001b[38;5;124m//table[@class=\u001b[39m\u001b[38;5;124m'\u001b[39m\u001b[38;5;124mtableizer-table\u001b[39m\u001b[38;5;124m'\u001b[39m\u001b[38;5;124m]\u001b[39m\u001b[38;5;124m\"\u001b[39m)\n\u001b[0;32m     14\u001b[0m \u001b[38;5;66;03m# Initialize lists to store data\u001b[39;00m\n\u001b[0;32m     15\u001b[0m names \u001b[38;5;241m=\u001b[39m []\n",
      "File \u001b[1;32m~\\anaconda3\\Lib\\site-packages\\selenium\\webdriver\\remote\\webdriver.py:741\u001b[0m, in \u001b[0;36mWebDriver.find_element\u001b[1;34m(self, by, value)\u001b[0m\n\u001b[0;32m    738\u001b[0m     by \u001b[38;5;241m=\u001b[39m By\u001b[38;5;241m.\u001b[39mCSS_SELECTOR\n\u001b[0;32m    739\u001b[0m     value \u001b[38;5;241m=\u001b[39m \u001b[38;5;124mf\u001b[39m\u001b[38;5;124m'\u001b[39m\u001b[38;5;124m[name=\u001b[39m\u001b[38;5;124m\"\u001b[39m\u001b[38;5;132;01m{\u001b[39;00mvalue\u001b[38;5;132;01m}\u001b[39;00m\u001b[38;5;124m\"\u001b[39m\u001b[38;5;124m]\u001b[39m\u001b[38;5;124m'\u001b[39m\n\u001b[1;32m--> 741\u001b[0m \u001b[38;5;28;01mreturn\u001b[39;00m \u001b[38;5;28mself\u001b[39m\u001b[38;5;241m.\u001b[39mexecute(Command\u001b[38;5;241m.\u001b[39mFIND_ELEMENT, {\u001b[38;5;124m\"\u001b[39m\u001b[38;5;124musing\u001b[39m\u001b[38;5;124m\"\u001b[39m: by, \u001b[38;5;124m\"\u001b[39m\u001b[38;5;124mvalue\u001b[39m\u001b[38;5;124m\"\u001b[39m: value})[\u001b[38;5;124m\"\u001b[39m\u001b[38;5;124mvalue\u001b[39m\u001b[38;5;124m\"\u001b[39m]\n",
      "File \u001b[1;32m~\\anaconda3\\Lib\\site-packages\\selenium\\webdriver\\remote\\webdriver.py:347\u001b[0m, in \u001b[0;36mWebDriver.execute\u001b[1;34m(self, driver_command, params)\u001b[0m\n\u001b[0;32m    345\u001b[0m response \u001b[38;5;241m=\u001b[39m \u001b[38;5;28mself\u001b[39m\u001b[38;5;241m.\u001b[39mcommand_executor\u001b[38;5;241m.\u001b[39mexecute(driver_command, params)\n\u001b[0;32m    346\u001b[0m \u001b[38;5;28;01mif\u001b[39;00m response:\n\u001b[1;32m--> 347\u001b[0m     \u001b[38;5;28mself\u001b[39m\u001b[38;5;241m.\u001b[39merror_handler\u001b[38;5;241m.\u001b[39mcheck_response(response)\n\u001b[0;32m    348\u001b[0m     response[\u001b[38;5;124m\"\u001b[39m\u001b[38;5;124mvalue\u001b[39m\u001b[38;5;124m\"\u001b[39m] \u001b[38;5;241m=\u001b[39m \u001b[38;5;28mself\u001b[39m\u001b[38;5;241m.\u001b[39m_unwrap_value(response\u001b[38;5;241m.\u001b[39mget(\u001b[38;5;124m\"\u001b[39m\u001b[38;5;124mvalue\u001b[39m\u001b[38;5;124m\"\u001b[39m, \u001b[38;5;28;01mNone\u001b[39;00m))\n\u001b[0;32m    349\u001b[0m     \u001b[38;5;28;01mreturn\u001b[39;00m response\n",
      "File \u001b[1;32m~\\anaconda3\\Lib\\site-packages\\selenium\\webdriver\\remote\\errorhandler.py:229\u001b[0m, in \u001b[0;36mErrorHandler.check_response\u001b[1;34m(self, response)\u001b[0m\n\u001b[0;32m    227\u001b[0m         alert_text \u001b[38;5;241m=\u001b[39m value[\u001b[38;5;124m\"\u001b[39m\u001b[38;5;124malert\u001b[39m\u001b[38;5;124m\"\u001b[39m]\u001b[38;5;241m.\u001b[39mget(\u001b[38;5;124m\"\u001b[39m\u001b[38;5;124mtext\u001b[39m\u001b[38;5;124m\"\u001b[39m)\n\u001b[0;32m    228\u001b[0m     \u001b[38;5;28;01mraise\u001b[39;00m exception_class(message, screen, stacktrace, alert_text)  \u001b[38;5;66;03m# type: ignore[call-arg]  # mypy is not smart enough here\u001b[39;00m\n\u001b[1;32m--> 229\u001b[0m \u001b[38;5;28;01mraise\u001b[39;00m exception_class(message, screen, stacktrace)\n",
      "\u001b[1;31mNoSuchElementException\u001b[0m: Message: no such element: Unable to locate element: {\"method\":\"xpath\",\"selector\":\"//table[@class='tableizer-table']\"}\n  (Session info: chrome=123.0.6312.106); For documentation on this error, please visit: https://www.selenium.dev/documentation/webdriver/troubleshooting/errors#no-such-element-exception\nStacktrace:\n\tGetHandleVerifier [0x00007FF6ACA77032+63090]\n\t(No symbol) [0x00007FF6AC9E2C82]\n\t(No symbol) [0x00007FF6AC87EC65]\n\t(No symbol) [0x00007FF6AC8C499D]\n\t(No symbol) [0x00007FF6AC8C4ADC]\n\t(No symbol) [0x00007FF6AC905B37]\n\t(No symbol) [0x00007FF6AC8E701F]\n\t(No symbol) [0x00007FF6AC903412]\n\t(No symbol) [0x00007FF6AC8E6D83]\n\t(No symbol) [0x00007FF6AC8B83A8]\n\t(No symbol) [0x00007FF6AC8B9441]\n\tGetHandleVerifier [0x00007FF6ACE725AD+4238317]\n\tGetHandleVerifier [0x00007FF6ACEAF70D+4488525]\n\tGetHandleVerifier [0x00007FF6ACEA79EF+4456495]\n\tGetHandleVerifier [0x00007FF6ACB50576+953270]\n\t(No symbol) [0x00007FF6AC9EE54F]\n\t(No symbol) [0x00007FF6AC9E9224]\n\t(No symbol) [0x00007FF6AC9E935B]\n\t(No symbol) [0x00007FF6AC9D9B94]\n\tBaseThreadInitThunk [0x00007FF8430B7344+20]\n\tRtlUserThreadStart [0x00007FF8444C26B1+33]\n"
     ]
    }
   ],
   "source": [
    "from selenium import webdriver\n",
    "import pandas as pd\n",
    "\n",
    "# Initialize the WebDriver\n",
    "driver = webdriver.Chrome()\n",
    "\n",
    "# Open the webpage\n",
    "url = \"https://www.jagranjosh.com/general-knowledge/list-of-all-prime-ministers-of-india-1473165149-1\"\n",
    "driver.get(url)\n",
    "\n",
    "# Find the table containing the data\n",
    "table = driver.find_element(By.XPATH,\"//table[@class='tableizer-table']\")\n",
    "\n",
    "# Initialize lists to store data\n",
    "names = []\n",
    "born_dead = []\n",
    "term_of_office = []\n",
    "remarks = []\n",
    "\n",
    "# Extract data from each row of the table\n",
    "rows = driver.find_element(By.XPATH,\"tr\") # Skipping the header row\n",
    "for row in rows:\n",
    "    columns = row.find_elements_by_tag_name(\"td\")\n",
    "    names.append(columns[0].text.strip())\n",
    "    born_dead.append(columns[1].text.strip())\n",
    "    term_of_office.append(columns[2].text.strip())\n",
    "    remarks.append(columns[3].text.strip())\n",
    "\n",
    "# Create DataFrame\n",
    "data = {\n",
    "    \"Name\": names,\n",
    "    \"Born-Dead\": born_dead,\n",
    "    \"Term of Office\": term_of_office,\n",
    "    \"Remarks\": remarks\n",
    "}\n",
    "df = pd.DataFrame(data)\n",
    "\n",
    "# Display DataFrame\n",
    "print(df)\n",
    "\n",
    "# Close the WebDriver\n",
    "driver.quit()\n"
   ]
  },
  {
   "cell_type": "code",
   "execution_count": 46,
   "id": "960bbb1a",
   "metadata": {},
   "outputs": [],
   "source": [
    "#Write a python program to display list of 50 Most expensive cars in the world (i.e. Car name and Price) from https://www.motor1.com/\n",
    "\n",
    "driver.get(\"https://www.motor1.com/\")"
   ]
  },
  {
   "cell_type": "code",
   "execution_count": 49,
   "id": "bca0f35f",
   "metadata": {},
   "outputs": [],
   "source": [
    "Search = driver.find_element(By.XPATH,\"/html/body/div[9]/div[2]/div/div/div[3]/div/div/div/form/input\")\n",
    "Search.send_keys(\"50 most Expensive Cars in World\")"
   ]
  },
  {
   "cell_type": "code",
   "execution_count": 50,
   "id": "47586eaf",
   "metadata": {},
   "outputs": [
    {
     "data": {
      "text/plain": [
       "<bound method WebElement.click of <selenium.webdriver.remote.webelement.WebElement (session=\"c3e186c9ee89d9b4bf798f571e71131a\", element=\"f.36BDD2B66BE212F56B06E4671BCE6B4C.d.46FCC12091B6C8608125E35E4F1A8120.e.10572\")>>"
      ]
     },
     "execution_count": 50,
     "metadata": {},
     "output_type": "execute_result"
    }
   ],
   "source": [
    "Button = driver.find_element(By.XPATH,\"/html/body/div[9]/div[2]/div/div/div[3]/div/div/div/form/button[1]\")\n",
    "Button.click\n"
   ]
  },
  {
   "cell_type": "code",
   "execution_count": 52,
   "id": "28dd961f",
   "metadata": {},
   "outputs": [
    {
     "data": {
      "text/plain": [
       "<bound method WebElement.click of <selenium.webdriver.remote.webelement.WebElement (session=\"c3e186c9ee89d9b4bf798f571e71131a\", element=\"f.36BDD2B66BE212F56B06E4671BCE6B4C.d.569250158F0AAB5FD2D725BFD1D642E1.e.13168\")>>"
      ]
     },
     "execution_count": 52,
     "metadata": {},
     "output_type": "execute_result"
    }
   ],
   "source": [
    "Click = driver.find_element(By.XPATH,\"/html/body/div[9]/div[9]/div/div[1]/div/div/div[1]/div/div[1]/h3/a\")\n",
    "Click.click"
   ]
  },
  {
   "cell_type": "code",
   "execution_count": 53,
   "id": "6275f224",
   "metadata": {},
   "outputs": [],
   "source": [
    "Name = []\n",
    "Price = []"
   ]
  },
  {
   "cell_type": "code",
   "execution_count": 56,
   "id": "41c840d5",
   "metadata": {},
   "outputs": [
    {
     "data": {
      "text/plain": [
       "['Aston Martin Valour',\n",
       " 'Aston Martin Valour',\n",
       " 'Aston Martin Valour',\n",
       " 'McLaren Elva',\n",
       " 'Czinger 21C',\n",
       " 'Ferrari Monza',\n",
       " 'Gordon Murray T.33',\n",
       " 'Koenigsegg Gemera',\n",
       " 'Zenvo TSR-S',\n",
       " 'Hennessey Venom F5',\n",
       " 'Bentley Bacalar',\n",
       " 'Hispano Suiza Carmen Boulogne',\n",
       " 'Bentley Mulliner Batur',\n",
       " 'Deus Vayanne',\n",
       " 'SSC Tuatara',\n",
       " 'Lotus Evija',\n",
       " 'Aston Martin Vulcan',\n",
       " 'Delage D12',\n",
       " 'Ferrari Daytona SP3',\n",
       " 'McLaren Speedtail',\n",
       " 'Rimac Nevera',\n",
       " 'Pagani Utopia',\n",
       " 'Pininfarina Battista',\n",
       " 'Gordon Murray T.50',\n",
       " 'Lamborghini Countach',\n",
       " 'Mercedes-AMG Project One',\n",
       " 'Zenvo Aurora',\n",
       " 'Aston Martin Victor',\n",
       " 'Hennessey Venom F5 Roadster',\n",
       " 'Koenigsegg Jesko',\n",
       " 'Aston Martin Valkyrie',\n",
       " 'W Motors Lykan Hypersport',\n",
       " 'McLaren Solus',\n",
       " 'Lamborghini Sian',\n",
       " 'Koenigsegg CC850',\n",
       " 'Bugatti Chiron Super Sport 300+',\n",
       " 'Lamborghini Veneno',\n",
       " 'Bugatti Bolide',\n",
       " 'Pininfarina B95 Speedster',\n",
       " 'Bugatti Mistral',\n",
       " 'Pagani Huayra Imola',\n",
       " 'Bugatti Divo',\n",
       " 'SP Automotive Chaos',\n",
       " 'Pagani Codalunga',\n",
       " '777 Hypercar',\n",
       " 'Mercedes-Maybach Exelero',\n",
       " 'Bugatti Centodieci',\n",
       " 'Bugatti Chiron Profilée',\n",
       " 'Rolls-Royce Sweptail',\n",
       " 'Bugatti La Voiture Noire']"
      ]
     },
     "execution_count": 56,
     "metadata": {},
     "output_type": "execute_result"
    }
   ],
   "source": [
    "name = driver.find_elements(By.XPATH,'//h3[@class=\"subheader\"]')\n",
    "for i in name:\n",
    "    x = i.text\n",
    "    Name.append(x)\n",
    "Name[:50]"
   ]
  },
  {
   "cell_type": "code",
   "execution_count": 64,
   "id": "3c0b0955",
   "metadata": {},
   "outputs": [
    {
     "data": {
      "text/plain": [
       "[<selenium.webdriver.remote.webelement.WebElement (session=\"c3e186c9ee89d9b4bf798f571e71131a\", element=\"f.36BDD2B66BE212F56B06E4671BCE6B4C.d.6E6FC3EB445A30DDB1D6595A978D86F0.e.15810\")>,\n",
       " <selenium.webdriver.remote.webelement.WebElement (session=\"c3e186c9ee89d9b4bf798f571e71131a\", element=\"f.36BDD2B66BE212F56B06E4671BCE6B4C.d.6E6FC3EB445A30DDB1D6595A978D86F0.e.15810\")>,\n",
       " <selenium.webdriver.remote.webelement.WebElement (session=\"c3e186c9ee89d9b4bf798f571e71131a\", element=\"f.36BDD2B66BE212F56B06E4671BCE6B4C.d.6E6FC3EB445A30DDB1D6595A978D86F0.e.15810\")>,\n",
       " <selenium.webdriver.remote.webelement.WebElement (session=\"c3e186c9ee89d9b4bf798f571e71131a\", element=\"f.36BDD2B66BE212F56B06E4671BCE6B4C.d.6E6FC3EB445A30DDB1D6595A978D86F0.e.15810\")>]"
      ]
     },
     "execution_count": 64,
     "metadata": {},
     "output_type": "execute_result"
    }
   ],
   "source": [
    "#Code not giving ouput as I expected\n",
    "price = driver.find_elements(By.XPATH,\"/html/body/div[9]/div[7]/div[2]/div[1]/div[2]/div[2]/p[8]/strong\")\n",
    "for i in price:\n",
    "    x = i\n",
    "    Price.append(x)\n",
    "Price[:50]"
   ]
  }
 ],
 "metadata": {
  "kernelspec": {
   "display_name": "Python 3 (ipykernel)",
   "language": "python",
   "name": "python3"
  },
  "language_info": {
   "codemirror_mode": {
    "name": "ipython",
    "version": 3
   },
   "file_extension": ".py",
   "mimetype": "text/x-python",
   "name": "python",
   "nbconvert_exporter": "python",
   "pygments_lexer": "ipython3",
   "version": "3.11.5"
  }
 },
 "nbformat": 4,
 "nbformat_minor": 5
}
